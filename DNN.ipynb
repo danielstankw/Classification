{
 "cells": [
  {
   "cell_type": "code",
   "execution_count": 1,
   "id": "b83e3b91",
   "metadata": {},
   "outputs": [
    {
     "name": "stderr",
     "output_type": "stream",
     "text": [
      "2023-01-29 11:09:47.382837: I tensorflow/core/platform/cpu_feature_guard.cc:193] This TensorFlow binary is optimized with oneAPI Deep Neural Network Library (oneDNN) to use the following CPU instructions in performance-critical operations:  AVX2 AVX_VNNI FMA\n",
      "To enable them in other operations, rebuild TensorFlow with the appropriate compiler flags.\n",
      "2023-01-29 11:09:47.441919: I tensorflow/core/util/port.cc:104] oneDNN custom operations are on. You may see slightly different numerical results due to floating-point round-off errors from different computation orders. To turn them off, set the environment variable `TF_ENABLE_ONEDNN_OPTS=0`.\n",
      "2023-01-29 11:09:47.443918: W tensorflow/compiler/xla/stream_executor/platform/default/dso_loader.cc:64] Could not load dynamic library 'libcudart.so.11.0'; dlerror: libcudart.so.11.0: cannot open shared object file: No such file or directory; LD_LIBRARY_PATH: :/home/user/.mujoco/mujoco200/bin:/home/user/.mujoco/mujoco200/bin\n",
      "2023-01-29 11:09:47.443925: I tensorflow/compiler/xla/stream_executor/cuda/cudart_stub.cc:29] Ignore above cudart dlerror if you do not have a GPU set up on your machine.\n",
      "2023-01-29 11:09:47.746390: W tensorflow/compiler/xla/stream_executor/platform/default/dso_loader.cc:64] Could not load dynamic library 'libnvinfer.so.7'; dlerror: libnvinfer.so.7: cannot open shared object file: No such file or directory; LD_LIBRARY_PATH: :/home/user/.mujoco/mujoco200/bin:/home/user/.mujoco/mujoco200/bin\n",
      "2023-01-29 11:09:47.746420: W tensorflow/compiler/xla/stream_executor/platform/default/dso_loader.cc:64] Could not load dynamic library 'libnvinfer_plugin.so.7'; dlerror: libnvinfer_plugin.so.7: cannot open shared object file: No such file or directory; LD_LIBRARY_PATH: :/home/user/.mujoco/mujoco200/bin:/home/user/.mujoco/mujoco200/bin\n",
      "2023-01-29 11:09:47.746423: W tensorflow/compiler/tf2tensorrt/utils/py_utils.cc:38] TF-TRT Warning: Cannot dlopen some TensorRT libraries. If you would like to use Nvidia GPU with TensorRT, please make sure the missing libraries mentioned above are installed properly.\n"
     ]
    }
   ],
   "source": [
    "from matplotlib import pyplot as plt\n",
    "import tensorflow as tf\n",
    "from tensorflow import keras\n",
    "from sklearn.model_selection import StratifiedKFold\n",
    "from sklearn.metrics import classification_report, precision_recall_curve, roc_curve, roc_auc_score, f1_score\n",
    "from sklearn.metrics import average_precision_score\n",
    "import pandas as pd\n",
    "import numpy as np\n",
    "from copy import deepcopy\n",
    "import seaborn as sns\n",
    "from sklearn.metrics import classification_report,average_precision_score, precision_recall_curve, roc_curve, roc_auc_score, f1_score, confusion_matrix, auc\n",
    "from sklearn.model_selection import GroupKFold, StratifiedKFold, GridSearchCV, train_test_split\n",
    "from sklearn.metrics import classification_report,average_precision_score, precision_recall_curve, roc_curve, roc_auc_score, f1_score, confusion_matrix, auc, precision_score, recall_score\n"
   ]
  },
  {
   "cell_type": "markdown",
   "id": "d186f0ad",
   "metadata": {},
   "source": [
    "### Loading Data + Visualization"
   ]
  },
  {
   "cell_type": "code",
   "execution_count": 51,
   "id": "91ee91a5",
   "metadata": {},
   "outputs": [],
   "source": [
    "df = pd.read_csv('./robot_data/merged_robot_data.csv')\n",
    "# df = pd.read_csv('./robot_data/ep4_new.csv')\n",
    "# df = pd.read_csv('./data_collection4/paired_errors.csv')"
   ]
  },
  {
   "cell_type": "code",
   "execution_count": 52,
   "id": "1fb08b2b",
   "metadata": {},
   "outputs": [
    {
     "data": {
      "text/plain": [
       "Index(['Unnamed: 0.2', 'Unnamed: 0.1', 'Unnamed: 0', 't', 'x', 'y', 'z', 'rx',\n",
       "       'ry', 'rz', 'vx', 'vy', 'vz', 'Fx', 'Fy', 'Fz', 'Mx', 'My', 'Mz',\n",
       "       'Case'],\n",
       "      dtype='object')"
      ]
     },
     "execution_count": 52,
     "metadata": {},
     "output_type": "execute_result"
    }
   ],
   "source": [
    "df.columns"
   ]
  },
  {
   "cell_type": "code",
   "execution_count": 53,
   "id": "7c04035b",
   "metadata": {},
   "outputs": [
    {
     "data": {
      "text/plain": [
       "(34745, 20)"
      ]
     },
     "execution_count": 53,
     "metadata": {},
     "output_type": "execute_result"
    }
   ],
   "source": [
    "df.shape"
   ]
  },
  {
   "cell_type": "code",
   "execution_count": 54,
   "id": "7b2a7946",
   "metadata": {},
   "outputs": [],
   "source": [
    "df = df.drop(['Unnamed: 0.2', 'Unnamed: 0.1','Unnamed: 0','t'], axis=1)\n",
    "# df = df.drop(['Unnamed: 0.1','Unnamed: 0','t'], axis=1)\n",
    "# df = df.drop(['Unnamed: 0','t'], axis=1)\n"
   ]
  },
  {
   "cell_type": "code",
   "execution_count": 55,
   "id": "40445194",
   "metadata": {},
   "outputs": [
    {
     "data": {
      "text/plain": [
       "Index(['x', 'y', 'z', 'rx', 'ry', 'rz', 'vx', 'vy', 'vz', 'Fx', 'Fy', 'Fz',\n",
       "       'Mx', 'My', 'Mz', 'Case'],\n",
       "      dtype='object')"
      ]
     },
     "execution_count": 55,
     "metadata": {},
     "output_type": "execute_result"
    }
   ],
   "source": [
    "df.columns"
   ]
  },
  {
   "cell_type": "code",
   "execution_count": 56,
   "id": "ee7a1a9b",
   "metadata": {},
   "outputs": [
    {
     "name": "stdout",
     "output_type": "stream",
     "text": [
      "Total data:  34745\n",
      "Label: 0 34217 | 98.48035688588286%\n",
      "Label: 1 528 | 1.5196431141171391%\n"
     ]
    }
   ],
   "source": [
    "tot = len(df.Case)\n",
    "pos = df.Case.sum()\n",
    "neg = tot-pos\n",
    "print('Total data: ', tot)\n",
    "print(f'Label: 0 {neg} | {(neg/tot)*100}%')\n",
    "print(f'Label: 1 {pos} | {(pos/tot)*100}%')"
   ]
  },
  {
   "cell_type": "code",
   "execution_count": 57,
   "id": "23c880f2",
   "metadata": {},
   "outputs": [
    {
     "data": {
      "text/html": [
       "<div>\n",
       "<style scoped>\n",
       "    .dataframe tbody tr th:only-of-type {\n",
       "        vertical-align: middle;\n",
       "    }\n",
       "\n",
       "    .dataframe tbody tr th {\n",
       "        vertical-align: top;\n",
       "    }\n",
       "\n",
       "    .dataframe thead th {\n",
       "        text-align: right;\n",
       "    }\n",
       "</style>\n",
       "<table border=\"1\" class=\"dataframe\">\n",
       "  <thead>\n",
       "    <tr style=\"text-align: right;\">\n",
       "      <th></th>\n",
       "      <th>x</th>\n",
       "      <th>y</th>\n",
       "      <th>z</th>\n",
       "      <th>rx</th>\n",
       "      <th>ry</th>\n",
       "      <th>rz</th>\n",
       "      <th>vx</th>\n",
       "      <th>vy</th>\n",
       "      <th>vz</th>\n",
       "      <th>Fx</th>\n",
       "      <th>Fy</th>\n",
       "      <th>Fz</th>\n",
       "      <th>Mx</th>\n",
       "      <th>My</th>\n",
       "      <th>Mz</th>\n",
       "    </tr>\n",
       "  </thead>\n",
       "  <tbody>\n",
       "    <tr>\n",
       "      <th>count</th>\n",
       "      <td>34745.000000</td>\n",
       "      <td>34745.000000</td>\n",
       "      <td>34745.000000</td>\n",
       "      <td>34745.000000</td>\n",
       "      <td>34745.000000</td>\n",
       "      <td>34745.000000</td>\n",
       "      <td>34745.000000</td>\n",
       "      <td>3.474500e+04</td>\n",
       "      <td>34745.000000</td>\n",
       "      <td>34745.000000</td>\n",
       "      <td>34745.000000</td>\n",
       "      <td>34745.000000</td>\n",
       "      <td>34745.000000</td>\n",
       "      <td>34745.000000</td>\n",
       "      <td>34745.000000</td>\n",
       "    </tr>\n",
       "    <tr>\n",
       "      <th>mean</th>\n",
       "      <td>-0.137966</td>\n",
       "      <td>-0.509645</td>\n",
       "      <td>0.072540</td>\n",
       "      <td>-0.000062</td>\n",
       "      <td>-0.000266</td>\n",
       "      <td>0.001135</td>\n",
       "      <td>-0.000007</td>\n",
       "      <td>4.485801e-07</td>\n",
       "      <td>-0.000020</td>\n",
       "      <td>-0.466363</td>\n",
       "      <td>-0.188707</td>\n",
       "      <td>5.003231</td>\n",
       "      <td>-0.002840</td>\n",
       "      <td>-0.014376</td>\n",
       "      <td>0.011366</td>\n",
       "    </tr>\n",
       "    <tr>\n",
       "      <th>std</th>\n",
       "      <td>0.002993</td>\n",
       "      <td>0.002702</td>\n",
       "      <td>0.000078</td>\n",
       "      <td>0.001407</td>\n",
       "      <td>0.001430</td>\n",
       "      <td>0.006047</td>\n",
       "      <td>0.001145</td>\n",
       "      <td>1.248120e-03</td>\n",
       "      <td>0.000625</td>\n",
       "      <td>0.844692</td>\n",
       "      <td>1.023472</td>\n",
       "      <td>1.060861</td>\n",
       "      <td>0.108421</td>\n",
       "      <td>0.110534</td>\n",
       "      <td>0.102389</td>\n",
       "    </tr>\n",
       "    <tr>\n",
       "      <th>min</th>\n",
       "      <td>-0.144851</td>\n",
       "      <td>-0.515805</td>\n",
       "      <td>0.068121</td>\n",
       "      <td>-0.008628</td>\n",
       "      <td>-0.006530</td>\n",
       "      <td>-0.013364</td>\n",
       "      <td>-0.004638</td>\n",
       "      <td>-5.861016e-03</td>\n",
       "      <td>-0.025025</td>\n",
       "      <td>-3.024711</td>\n",
       "      <td>-6.715337</td>\n",
       "      <td>-0.717291</td>\n",
       "      <td>-0.826048</td>\n",
       "      <td>-0.898659</td>\n",
       "      <td>-0.215748</td>\n",
       "    </tr>\n",
       "    <tr>\n",
       "      <th>25%</th>\n",
       "      <td>-0.140047</td>\n",
       "      <td>-0.511618</td>\n",
       "      <td>0.072527</td>\n",
       "      <td>-0.001062</td>\n",
       "      <td>-0.001349</td>\n",
       "      <td>-0.005011</td>\n",
       "      <td>-0.001098</td>\n",
       "      <td>-1.072139e-03</td>\n",
       "      <td>-0.000156</td>\n",
       "      <td>-1.151795</td>\n",
       "      <td>-0.969887</td>\n",
       "      <td>4.606718</td>\n",
       "      <td>-0.086393</td>\n",
       "      <td>-0.099607</td>\n",
       "      <td>-0.047053</td>\n",
       "    </tr>\n",
       "    <tr>\n",
       "      <th>50%</th>\n",
       "      <td>-0.137905</td>\n",
       "      <td>-0.509668</td>\n",
       "      <td>0.072543</td>\n",
       "      <td>-0.000021</td>\n",
       "      <td>-0.000186</td>\n",
       "      <td>0.003569</td>\n",
       "      <td>-0.000003</td>\n",
       "      <td>-4.891891e-05</td>\n",
       "      <td>-0.000008</td>\n",
       "      <td>-0.503131</td>\n",
       "      <td>-0.010727</td>\n",
       "      <td>4.985373</td>\n",
       "      <td>0.011002</td>\n",
       "      <td>-0.014019</td>\n",
       "      <td>0.002537</td>\n",
       "    </tr>\n",
       "    <tr>\n",
       "      <th>75%</th>\n",
       "      <td>-0.135854</td>\n",
       "      <td>-0.507637</td>\n",
       "      <td>0.072558</td>\n",
       "      <td>0.001097</td>\n",
       "      <td>0.000907</td>\n",
       "      <td>0.006200</td>\n",
       "      <td>0.001057</td>\n",
       "      <td>1.091175e-03</td>\n",
       "      <td>0.000143</td>\n",
       "      <td>0.186419</td>\n",
       "      <td>0.621021</td>\n",
       "      <td>5.389545</td>\n",
       "      <td>0.090412</td>\n",
       "      <td>0.079033</td>\n",
       "      <td>0.109472</td>\n",
       "    </tr>\n",
       "    <tr>\n",
       "      <th>max</th>\n",
       "      <td>-0.131514</td>\n",
       "      <td>-0.503526</td>\n",
       "      <td>0.072718</td>\n",
       "      <td>0.002464</td>\n",
       "      <td>0.002585</td>\n",
       "      <td>0.013388</td>\n",
       "      <td>0.003001</td>\n",
       "      <td>5.903866e-03</td>\n",
       "      <td>0.004628</td>\n",
       "      <td>3.948064</td>\n",
       "      <td>2.862133</td>\n",
       "      <td>11.506700</td>\n",
       "      <td>0.201487</td>\n",
       "      <td>0.256065</td>\n",
       "      <td>0.229611</td>\n",
       "    </tr>\n",
       "  </tbody>\n",
       "</table>\n",
       "</div>"
      ],
      "text/plain": [
       "                  x             y             z            rx            ry  \\\n",
       "count  34745.000000  34745.000000  34745.000000  34745.000000  34745.000000   \n",
       "mean      -0.137966     -0.509645      0.072540     -0.000062     -0.000266   \n",
       "std        0.002993      0.002702      0.000078      0.001407      0.001430   \n",
       "min       -0.144851     -0.515805      0.068121     -0.008628     -0.006530   \n",
       "25%       -0.140047     -0.511618      0.072527     -0.001062     -0.001349   \n",
       "50%       -0.137905     -0.509668      0.072543     -0.000021     -0.000186   \n",
       "75%       -0.135854     -0.507637      0.072558      0.001097      0.000907   \n",
       "max       -0.131514     -0.503526      0.072718      0.002464      0.002585   \n",
       "\n",
       "                 rz            vx            vy            vz            Fx  \\\n",
       "count  34745.000000  34745.000000  3.474500e+04  34745.000000  34745.000000   \n",
       "mean       0.001135     -0.000007  4.485801e-07     -0.000020     -0.466363   \n",
       "std        0.006047      0.001145  1.248120e-03      0.000625      0.844692   \n",
       "min       -0.013364     -0.004638 -5.861016e-03     -0.025025     -3.024711   \n",
       "25%       -0.005011     -0.001098 -1.072139e-03     -0.000156     -1.151795   \n",
       "50%        0.003569     -0.000003 -4.891891e-05     -0.000008     -0.503131   \n",
       "75%        0.006200      0.001057  1.091175e-03      0.000143      0.186419   \n",
       "max        0.013388      0.003001  5.903866e-03      0.004628      3.948064   \n",
       "\n",
       "                 Fy            Fz            Mx            My            Mz  \n",
       "count  34745.000000  34745.000000  34745.000000  34745.000000  34745.000000  \n",
       "mean      -0.188707      5.003231     -0.002840     -0.014376      0.011366  \n",
       "std        1.023472      1.060861      0.108421      0.110534      0.102389  \n",
       "min       -6.715337     -0.717291     -0.826048     -0.898659     -0.215748  \n",
       "25%       -0.969887      4.606718     -0.086393     -0.099607     -0.047053  \n",
       "50%       -0.010727      4.985373      0.011002     -0.014019      0.002537  \n",
       "75%        0.621021      5.389545      0.090412      0.079033      0.109472  \n",
       "max        2.862133     11.506700      0.201487      0.256065      0.229611  "
      ]
     },
     "execution_count": 57,
     "metadata": {},
     "output_type": "execute_result"
    }
   ],
   "source": [
    "df.describe()"
   ]
  },
  {
   "cell_type": "code",
   "execution_count": 58,
   "id": "e4c23e13",
   "metadata": {},
   "outputs": [],
   "source": [
    "# corr = df.corr()\n",
    "# plt.figure(figsize=(15,10))\n",
    "# sns.heatmap(corr,annot=True)\n",
    "# plt.show()"
   ]
  },
  {
   "cell_type": "code",
   "execution_count": 59,
   "id": "3a4d60c2",
   "metadata": {
    "scrolled": true
   },
   "outputs": [],
   "source": [
    "# corr_with_case = corr['Case']\n",
    "# # delete .abs() if we do not want abs values\n",
    "# sorted_corr = corr_with_case.abs().sort_values(ascending=False)\n",
    "\n",
    "# corr_df = pd.DataFrame(sorted_corr)\n",
    "\n",
    "# # rename the column\n",
    "# corr_df = corr_df.rename(columns={'case': 'correlation'})"
   ]
  },
  {
   "cell_type": "code",
   "execution_count": 60,
   "id": "7cc3babd",
   "metadata": {},
   "outputs": [],
   "source": [
    "# corr_df"
   ]
  },
  {
   "cell_type": "markdown",
   "id": "15e7bc34",
   "metadata": {},
   "source": [
    "### Data Preprocessing"
   ]
  },
  {
   "cell_type": "code",
   "execution_count": 61,
   "id": "42730d29",
   "metadata": {},
   "outputs": [],
   "source": [
    "feature_names = ['Fx', 'Fy', 'Fz', 'Mx', 'My']\n",
    "# feature_names = ['fz']\n",
    "# \n",
    "# feature_names = ['fx', 'fy', 'fz', 'mx', 'my']\n",
    "\n",
    "X_df = df[feature_names]\n",
    "X = X_df.to_numpy()\n",
    "y = df.Case.to_numpy()\n",
    "\n",
    "window_len = 100\n",
    "\n",
    "if window_len:\n",
    "    n_features = len(feature_names)  # 3\n",
    "\n",
    "    row = X.shape[0] + 1 - window_len\n",
    "    col_len = n_features * window_len\n",
    "    new_x = np.zeros((row, col_len))\n",
    "    new_y = np.zeros((row, 1))\n",
    "\n",
    "    for i in range(len(new_x)):\n",
    "        new_x[i] = X[i:i + window_len].reshape(1, col_len)[0][::-1]\n",
    "        new_y[i] = y[i + (window_len - 1)]\n",
    "\n",
    "    y = deepcopy(new_y)\n",
    "    X = deepcopy(new_x)\n",
    "\n",
    "total = len(y)\n",
    "pos = int(y.sum())\n",
    "neg = total - pos\n",
    "weight = neg/pos # 13.5"
   ]
  },
  {
   "cell_type": "code",
   "execution_count": 62,
   "id": "e1b96dd7",
   "metadata": {},
   "outputs": [
    {
     "data": {
      "text/html": [
       "<div>\n",
       "<style scoped>\n",
       "    .dataframe tbody tr th:only-of-type {\n",
       "        vertical-align: middle;\n",
       "    }\n",
       "\n",
       "    .dataframe tbody tr th {\n",
       "        vertical-align: top;\n",
       "    }\n",
       "\n",
       "    .dataframe thead th {\n",
       "        text-align: right;\n",
       "    }\n",
       "</style>\n",
       "<table border=\"1\" class=\"dataframe\">\n",
       "  <thead>\n",
       "    <tr style=\"text-align: right;\">\n",
       "      <th></th>\n",
       "      <th>Fx</th>\n",
       "      <th>Fy</th>\n",
       "      <th>Fz</th>\n",
       "      <th>Mx</th>\n",
       "      <th>My</th>\n",
       "    </tr>\n",
       "  </thead>\n",
       "  <tbody>\n",
       "    <tr>\n",
       "      <th>count</th>\n",
       "      <td>34745.000000</td>\n",
       "      <td>34745.000000</td>\n",
       "      <td>34745.000000</td>\n",
       "      <td>34745.000000</td>\n",
       "      <td>34745.000000</td>\n",
       "    </tr>\n",
       "    <tr>\n",
       "      <th>mean</th>\n",
       "      <td>-0.466363</td>\n",
       "      <td>-0.188707</td>\n",
       "      <td>5.003231</td>\n",
       "      <td>-0.002840</td>\n",
       "      <td>-0.014376</td>\n",
       "    </tr>\n",
       "    <tr>\n",
       "      <th>std</th>\n",
       "      <td>0.844692</td>\n",
       "      <td>1.023472</td>\n",
       "      <td>1.060861</td>\n",
       "      <td>0.108421</td>\n",
       "      <td>0.110534</td>\n",
       "    </tr>\n",
       "    <tr>\n",
       "      <th>min</th>\n",
       "      <td>-3.024711</td>\n",
       "      <td>-6.715337</td>\n",
       "      <td>-0.717291</td>\n",
       "      <td>-0.826048</td>\n",
       "      <td>-0.898659</td>\n",
       "    </tr>\n",
       "    <tr>\n",
       "      <th>25%</th>\n",
       "      <td>-1.151795</td>\n",
       "      <td>-0.969887</td>\n",
       "      <td>4.606718</td>\n",
       "      <td>-0.086393</td>\n",
       "      <td>-0.099607</td>\n",
       "    </tr>\n",
       "    <tr>\n",
       "      <th>50%</th>\n",
       "      <td>-0.503131</td>\n",
       "      <td>-0.010727</td>\n",
       "      <td>4.985373</td>\n",
       "      <td>0.011002</td>\n",
       "      <td>-0.014019</td>\n",
       "    </tr>\n",
       "    <tr>\n",
       "      <th>75%</th>\n",
       "      <td>0.186419</td>\n",
       "      <td>0.621021</td>\n",
       "      <td>5.389545</td>\n",
       "      <td>0.090412</td>\n",
       "      <td>0.079033</td>\n",
       "    </tr>\n",
       "    <tr>\n",
       "      <th>max</th>\n",
       "      <td>3.948064</td>\n",
       "      <td>2.862133</td>\n",
       "      <td>11.506700</td>\n",
       "      <td>0.201487</td>\n",
       "      <td>0.256065</td>\n",
       "    </tr>\n",
       "  </tbody>\n",
       "</table>\n",
       "</div>"
      ],
      "text/plain": [
       "                 Fx            Fy            Fz            Mx            My\n",
       "count  34745.000000  34745.000000  34745.000000  34745.000000  34745.000000\n",
       "mean      -0.466363     -0.188707      5.003231     -0.002840     -0.014376\n",
       "std        0.844692      1.023472      1.060861      0.108421      0.110534\n",
       "min       -3.024711     -6.715337     -0.717291     -0.826048     -0.898659\n",
       "25%       -1.151795     -0.969887      4.606718     -0.086393     -0.099607\n",
       "50%       -0.503131     -0.010727      4.985373      0.011002     -0.014019\n",
       "75%        0.186419      0.621021      5.389545      0.090412      0.079033\n",
       "max        3.948064      2.862133     11.506700      0.201487      0.256065"
      ]
     },
     "execution_count": 62,
     "metadata": {},
     "output_type": "execute_result"
    }
   ],
   "source": [
    "X_df.describe()"
   ]
  },
  {
   "cell_type": "code",
   "execution_count": 63,
   "id": "b92c209e",
   "metadata": {},
   "outputs": [
    {
     "data": {
      "text/plain": [
       "(34646, 500)"
      ]
     },
     "execution_count": 63,
     "metadata": {},
     "output_type": "execute_result"
    }
   ],
   "source": [
    "X.shape"
   ]
  },
  {
   "cell_type": "code",
   "execution_count": 64,
   "id": "be7b5283",
   "metadata": {
    "scrolled": false
   },
   "outputs": [
    {
     "name": "stdout",
     "output_type": "stream",
     "text": [
      "Total Dataset size: (34646, 500)\n",
      "Ratio of 1's in dataset 1.5239854528661316% and count is: 528\n",
      "Ratio of 0's in dataset 98.47601454713387% and count is: 34118\n"
     ]
    }
   ],
   "source": [
    "print(f\"Total Dataset size: {X.shape}\")\n",
    "print(f\"Ratio of 1's in dataset {(pos/total) * 100}% and count is: {pos}\")\n",
    "print(f\"Ratio of 0's in dataset {(neg/total) * 100}% and count is: {neg}\")"
   ]
  },
  {
   "cell_type": "markdown",
   "id": "e5609509",
   "metadata": {},
   "source": [
    "### Helper Functions"
   ]
  },
  {
   "cell_type": "code",
   "execution_count": 65,
   "id": "11f0eaa8",
   "metadata": {},
   "outputs": [],
   "source": [
    "def plot_prc_and_roc(y_true, y_pred):\n",
    "\n",
    "    precisions, recalls, thresholds = precision_recall_curve(y_true, y_pred)\n",
    "    average_precision = average_precision_score(y_true, y_pred)\n",
    "    \n",
    "    plt.figure()\n",
    "    plt.step(recalls, precisions, color='b', alpha=1.0, where='post')\n",
    "    plt.fill_between(recalls, precisions, step='post', alpha=0.1, color='b')\n",
    "\n",
    "    plt.xlabel('Recall')\n",
    "    plt.ylabel('Precision')\n",
    "    plt.ylim([0.0, 1.05])\n",
    "    plt.xlim([0.0, 1.0])\n",
    "    plt.grid()\n",
    "\n",
    "    plt.title('Precision-Recall curve: Average Precision = {0:0.2f}'.format(\n",
    "              average_precision))\n",
    "    plt.show()\n",
    "    \n",
    "    fpr, tpr, thresholds = roc_curve(y_true, y_pred)\n",
    "    areaUnderROC = auc(fpr, tpr)\n",
    "\n",
    "    plt.figure()\n",
    "    plt.plot(fpr, tpr, color='r', lw=2, label='ROC curve')\n",
    "    plt.plot([0, 1], [0, 1], color='k', lw=2, linestyle='--')\n",
    "    plt.xlim([0.0, 1.0])\n",
    "    plt.ylim([0.0, 1.05])\n",
    "    plt.xlabel('False Positive Rate')\n",
    "    plt.ylabel('True Positive Rate')\n",
    "    plt.title('Receiver operating characteristic: \\\n",
    "            Area under the curve = {0:0.2f}'.format(areaUnderROC))\n",
    "    plt.legend(loc=\"lower right\")\n",
    "    plt.grid()\n",
    "    plt.show()       \n"
   ]
  },
  {
   "cell_type": "code",
   "execution_count": 66,
   "id": "952cc050",
   "metadata": {},
   "outputs": [],
   "source": [
    "def plot_precision_recall_vs_threshold(y_true, y_pred):\n",
    "    precisions, recalls, thresholds = precision_recall_curve(y_true, y_pred)\n",
    "    f1_vec = 2 * (precisions * recalls) / (precisions + recalls)\n",
    "    plt.figure()\n",
    "    plt.plot(thresholds, precisions[:-1], \"b--\", label='Precision')\n",
    "    plt.plot(thresholds, recalls[:-1], \"g-\", label='Recall')\n",
    "    plt.plot(thresholds, f1_vec[:-1], \"k-\", label='F1')\n",
    "    plt.xlabel('Threshold')\n",
    "    plt.title('Precision/ Recall/ F1 Score/ Threshold')\n",
    "    plt.legend()\n",
    "    plt.grid()\n",
    "    plt.show()"
   ]
  },
  {
   "cell_type": "code",
   "execution_count": 67,
   "id": "3ef8aed6",
   "metadata": {},
   "outputs": [],
   "source": [
    "def dnn_stratified_kfold_cross_val(X, y, epoch, batch_size, callback, print_info, metrics):\n",
    "    \"\"\"\n",
    "    StratifiedKFold cross-validation. \n",
    "    \"\"\"\n",
    "    skf = StratifiedKFold(n_splits=10, shuffle=False)\n",
    "    aucpr_scores = []\n",
    "    roc_scores = []\n",
    "    prec_scores =  []\n",
    "    recall_scores = []\n",
    "\n",
    "    for fold_id, (train_index, valid_index) in enumerate(skf.split(X, y)):\n",
    "        print(f\"Fold {fold_id}:\")\n",
    "        X_train, X_valid = X[train_index], X[valid_index]\n",
    "        y_train, y_valid = y[train_index], y[valid_index]\n",
    "        \n",
    "        if print_info:\n",
    "            print(f\"Ratio of 1's in train set {np.round((y_train.sum())/len(y_train),4) * 100}%\")\n",
    "            print(f\"Ratio of 1's in validation set {np.round((y_valid.sum()/len(y_valid)),4) * 100}%\")\n",
    "        \n",
    "        n_inputs = X_train.shape[1]  \n",
    "        # make model\n",
    "        model = make_model(n_inputs, metrics=metrics)\n",
    "        # fit model\n",
    "        model_history = model.fit(X_train, y_train,\n",
    "                          validation_data = (X_valid, y_valid),\n",
    "                          epochs=epoch,\n",
    "                          batch_size=batch_size,\n",
    "                          verbose=0, # 1 \n",
    "                          callbacks=[callback],\n",
    "                          shuffle=True) \n",
    "        \n",
    "        y_val_pred = model.predict(X_valid)\n",
    "        roc = roc_auc_score(y_valid, y_val_pred)\n",
    "        aucpr = average_precision_score(y_valid, y_val_pred)\n",
    "        prec = precision_score(y_valid, y_val_pred > 0.5)\n",
    "        recall = recall_score(y_valid, y_val_pred > 0.5)\n",
    "        if print_info:\n",
    "            print('--------------------------------------')\n",
    "            print(f\"Aucpr score for fold {fold_id} is : {aucpr}\")\n",
    "            print(f\"ROC score for fold {fold_id} is : {roc}\")\n",
    "            print(f\"Precision  : {prec}\")\n",
    "            print(f\"Recall : {recall}\")\n",
    "            print('--------------------------------------')\n",
    "\n",
    "        aucpr_scores.append(aucpr)\n",
    "        roc_scores.append(roc)\n",
    "        prec_scores.append(prec)\n",
    "        recall_scores.append(recall)\n",
    "\n",
    "\n",
    "    print()\n",
    "    print(f\"Mean across all folds:\\nAUCPR: {np.mean(aucpr_scores)}\\nROC {np.mean(roc_scores)}\\nPrecision: {np.mean(prec_scores)}\\nRecall: {np.mean(recall_scores)}\")\n"
   ]
  },
  {
   "cell_type": "code",
   "execution_count": 68,
   "id": "ffd83f9d",
   "metadata": {},
   "outputs": [],
   "source": [
    "def get_scores_thresholds(X_test, y_test, model, algo=None):\n",
    "    thresholds = [0.1, 0.2, 0.3, 0.4, 0.5, 0.6, 0.7, 0.8, 0.9]\n",
    "    for thresh in thresholds:\n",
    "        if algo == \"XGB\":\n",
    "            y_pred = model.predict_proba(X_test)[:, 1]\n",
    "        else:\n",
    "            y_pred = model.predict(X_test)\n",
    "            \n",
    "        print('threshold:', thresh)\n",
    "        print(confusion_matrix(y_test, y_pred > thresh))\n",
    "        print(classification_report(y_test, y_pred > thresh))\n",
    "        print('--------------------------------------')"
   ]
  },
  {
   "cell_type": "markdown",
   "id": "8f3c5ad9",
   "metadata": {},
   "source": [
    "### Define Model"
   ]
  },
  {
   "cell_type": "code",
   "execution_count": 72,
   "id": "a2beac1e",
   "metadata": {},
   "outputs": [],
   "source": [
    "def make_model(n_inputs, metrics=None, output_bias=None):\n",
    "    if output_bias is not None:\n",
    "        output_bias = tf.keras.initializers.Constant(output_bias)\n",
    "        \n",
    "    nn = keras.Sequential()\n",
    "    nn.add(keras.layers.Dense(16, input_shape=(n_inputs,), activation='relu'))\n",
    "    nn.add(keras.layers.Dense(32, activation='relu'))\n",
    "    nn.add(keras.layers.Dense(64, activation='relu'))\n",
    "    nn.add(keras.layers.Dense(1, activation='sigmoid', bias_initializer=output_bias))\n",
    "    # testing to reduce overfit\n",
    "#     nn.add(keras.layers.Dropout(0.1))\n",
    "    \n",
    "    nn.compile(optimizer=keras.optimizers.Adam(learning_rate=1e-3),\n",
    "              loss='binary_crossentropy',\n",
    "              metrics=metrics)\n",
    "    # metrics simply tell us what we will be able to see in the log and on plot\n",
    "    # they do are NOT used for optimization!\n",
    "\n",
    "    \n",
    "    return nn"
   ]
  },
  {
   "cell_type": "code",
   "execution_count": 73,
   "id": "9006b4f5",
   "metadata": {},
   "outputs": [],
   "source": [
    "METRICS = [\n",
    "    keras.metrics.TruePositives(name='tp'),\n",
    "    keras.metrics.FalsePositives(name='fp'),\n",
    "    keras.metrics.TrueNegatives(name='tn'),\n",
    "    keras.metrics.FalseNegatives(name='fn'),\n",
    "    keras.metrics.Precision(name='precision'),\n",
    "    keras.metrics.Recall(name='recall'),\n",
    "    keras.metrics.AUC(name='auc'),\n",
    "    keras.metrics.AUC(name='prc', curve='PR'),  # precision-recall curve\n",
    "]"
   ]
  },
  {
   "cell_type": "code",
   "execution_count": 74,
   "id": "b3b031ac",
   "metadata": {},
   "outputs": [],
   "source": [
    "#https://machinelearningmastery.com/how-to-stop-training-deep-neural-networks-at-the-right-time-using-early-stopping/ \n",
    "early_stopping = tf.keras.callbacks.EarlyStopping(\n",
    "    monitor='val_prc', # validation precision \n",
    "    mode='max', # specify whether we seek to min/max given metrics\n",
    "    verbose=1,  # print training epoch on which we stopped\n",
    "    patience=20, #after how many epochs of no improvement do we stop\n",
    "    restore_best_weights=True)\n"
   ]
  },
  {
   "cell_type": "markdown",
   "id": "81ba0677",
   "metadata": {},
   "source": [
    "##### Stratified 10 fold cross validation of different models"
   ]
  },
  {
   "cell_type": "code",
   "execution_count": 75,
   "id": "2833ec66",
   "metadata": {
    "scrolled": true
   },
   "outputs": [],
   "source": [
    "# # create and compile network\n",
    "# n_inputs = X.shape[1]  # (77862, 3)\n",
    "# dnn = make_model(n_inputs, metrics=METRICS)\n",
    "# batch_size_list = [512, 1024]\n",
    "# for bs in batch_size_list:\n",
    "# # perform statified k fold validation\n",
    "#     print('Batch Size', bs)\n",
    "#     dnn_stratified_kfold_cross_val(X, y, epoch=300, \n",
    "#                                batch_size=bs, callback=early_stopping, \n",
    "#                                print_info=True, metrics=METRICS)"
   ]
  },
  {
   "cell_type": "markdown",
   "id": "09c07191",
   "metadata": {},
   "source": [
    "### Chosing one of the models"
   ]
  },
  {
   "cell_type": "code",
   "execution_count": 76,
   "id": "f222f0b5",
   "metadata": {},
   "outputs": [],
   "source": [
    "X_train, X_test, y_train, y_test = train_test_split(X, y, test_size=0.2, random_state=42,stratify=y)"
   ]
  },
  {
   "cell_type": "code",
   "execution_count": 77,
   "id": "3b610988",
   "metadata": {},
   "outputs": [
    {
     "name": "stdout",
     "output_type": "stream",
     "text": [
      "Number of 1's in train set 422.0\n",
      "Number of 1's in test set 106.0\n"
     ]
    }
   ],
   "source": [
    "print(f\"Number of 1's in train set {y_train.sum()}\")\n",
    "print(f\"Number of 1's in test set {y_test.sum()}\")"
   ]
  },
  {
   "cell_type": "code",
   "execution_count": 78,
   "id": "ac02ffac",
   "metadata": {
    "scrolled": true
   },
   "outputs": [
    {
     "name": "stdout",
     "output_type": "stream",
     "text": [
      "Input shape 500\n",
      "Model: \"sequential_2\"\n",
      "_________________________________________________________________\n",
      " Layer (type)                Output Shape              Param #   \n",
      "=================================================================\n",
      " dense_8 (Dense)             (None, 16)                8016      \n",
      "                                                                 \n",
      " dense_9 (Dense)             (None, 32)                544       \n",
      "                                                                 \n",
      " dense_10 (Dense)            (None, 64)                2112      \n",
      "                                                                 \n",
      " dense_11 (Dense)            (None, 1)                 65        \n",
      "                                                                 \n",
      "=================================================================\n",
      "Total params: 10,737\n",
      "Trainable params: 10,737\n",
      "Non-trainable params: 0\n",
      "_________________________________________________________________\n",
      "None\n"
     ]
    }
   ],
   "source": [
    "n_inputs = X_train.shape[1]  # (77862, 3)\n",
    "print('Input shape',n_inputs)\n",
    "model = make_model(n_inputs, metrics=METRICS)\n",
    "print(model.summary())"
   ]
  },
  {
   "cell_type": "code",
   "execution_count": 79,
   "id": "daa503ad",
   "metadata": {},
   "outputs": [],
   "source": [
    "# sc = StandardScaler()\n",
    "# X[num_cols] = sc.fit_transform(X[num_cols])\n",
    "# test[num_cols] = sc.transform(test[num_cols])\n",
    "# X = X.values\n",
    "# y = y.values\n",
    "# test = test.values\n"
   ]
  },
  {
   "cell_type": "code",
   "execution_count": 80,
   "id": "4966743a",
   "metadata": {
    "scrolled": true
   },
   "outputs": [
    {
     "name": "stdout",
     "output_type": "stream",
     "text": [
      "Epoch 1/300\n",
      "55/55 [==============================] - 1s 6ms/step - loss: 0.1101 - tp: 2.0000 - fp: 126.0000 - tn: 27168.0000 - fn: 420.0000 - precision: 0.0156 - recall: 0.0047 - auc: 0.5106 - prc: 0.0155 - val_loss: 0.0777 - val_tp: 0.0000e+00 - val_fp: 0.0000e+00 - val_tn: 6824.0000 - val_fn: 106.0000 - val_precision: 0.0000e+00 - val_recall: 0.0000e+00 - val_auc: 0.6362 - val_prc: 0.0230\n",
      "Epoch 2/300\n",
      "55/55 [==============================] - 0s 3ms/step - loss: 0.0757 - tp: 0.0000e+00 - fp: 0.0000e+00 - tn: 27294.0000 - fn: 422.0000 - precision: 0.0000e+00 - recall: 0.0000e+00 - auc: 0.6784 - prc: 0.0410 - val_loss: 0.0764 - val_tp: 0.0000e+00 - val_fp: 0.0000e+00 - val_tn: 6824.0000 - val_fn: 106.0000 - val_precision: 0.0000e+00 - val_recall: 0.0000e+00 - val_auc: 0.6973 - val_prc: 0.0943\n",
      "Epoch 3/300\n",
      "55/55 [==============================] - 0s 2ms/step - loss: 0.0725 - tp: 0.0000e+00 - fp: 0.0000e+00 - tn: 27294.0000 - fn: 422.0000 - precision: 0.0000e+00 - recall: 0.0000e+00 - auc: 0.7287 - prc: 0.1454 - val_loss: 0.0726 - val_tp: 0.0000e+00 - val_fp: 0.0000e+00 - val_tn: 6824.0000 - val_fn: 106.0000 - val_precision: 0.0000e+00 - val_recall: 0.0000e+00 - val_auc: 0.7527 - val_prc: 0.1612\n",
      "Epoch 4/300\n",
      "55/55 [==============================] - 0s 2ms/step - loss: 0.0679 - tp: 0.0000e+00 - fp: 0.0000e+00 - tn: 27294.0000 - fn: 422.0000 - precision: 0.0000e+00 - recall: 0.0000e+00 - auc: 0.7444 - prc: 0.2234 - val_loss: 0.0636 - val_tp: 0.0000e+00 - val_fp: 0.0000e+00 - val_tn: 6824.0000 - val_fn: 106.0000 - val_precision: 0.0000e+00 - val_recall: 0.0000e+00 - val_auc: 0.7864 - val_prc: 0.3135\n",
      "Epoch 5/300\n",
      "55/55 [==============================] - 0s 4ms/step - loss: 0.0614 - tp: 15.0000 - fp: 4.0000 - tn: 27290.0000 - fn: 407.0000 - precision: 0.7895 - recall: 0.0355 - auc: 0.7868 - prc: 0.3095 - val_loss: 0.0613 - val_tp: 0.0000e+00 - val_fp: 0.0000e+00 - val_tn: 6824.0000 - val_fn: 106.0000 - val_precision: 0.0000e+00 - val_recall: 0.0000e+00 - val_auc: 0.7963 - val_prc: 0.3892\n",
      "Epoch 6/300\n",
      "55/55 [==============================] - 0s 4ms/step - loss: 0.0574 - tp: 64.0000 - fp: 8.0000 - tn: 27286.0000 - fn: 358.0000 - precision: 0.8889 - recall: 0.1517 - auc: 0.8097 - prc: 0.3788 - val_loss: 0.0562 - val_tp: 17.0000 - val_fp: 1.0000 - val_tn: 6823.0000 - val_fn: 89.0000 - val_precision: 0.9444 - val_recall: 0.1604 - val_auc: 0.8407 - val_prc: 0.3601\n",
      "Epoch 7/300\n",
      "55/55 [==============================] - 0s 3ms/step - loss: 0.0536 - tp: 71.0000 - fp: 3.0000 - tn: 27291.0000 - fn: 351.0000 - precision: 0.9595 - recall: 0.1682 - auc: 0.8574 - prc: 0.4207 - val_loss: 0.0506 - val_tp: 18.0000 - val_fp: 1.0000 - val_tn: 6823.0000 - val_fn: 88.0000 - val_precision: 0.9474 - val_recall: 0.1698 - val_auc: 0.9214 - val_prc: 0.5023\n",
      "Epoch 8/300\n",
      "55/55 [==============================] - 0s 3ms/step - loss: 0.0479 - tp: 90.0000 - fp: 5.0000 - tn: 27289.0000 - fn: 332.0000 - precision: 0.9474 - recall: 0.2133 - auc: 0.9061 - prc: 0.4962 - val_loss: 0.0475 - val_tp: 17.0000 - val_fp: 0.0000e+00 - val_tn: 6824.0000 - val_fn: 89.0000 - val_precision: 1.0000 - val_recall: 0.1604 - val_auc: 0.9332 - val_prc: 0.4971\n",
      "Epoch 9/300\n",
      "55/55 [==============================] - 0s 2ms/step - loss: 0.0445 - tp: 100.0000 - fp: 9.0000 - tn: 27285.0000 - fn: 322.0000 - precision: 0.9174 - recall: 0.2370 - auc: 0.9461 - prc: 0.5112 - val_loss: 0.0424 - val_tp: 19.0000 - val_fp: 0.0000e+00 - val_tn: 6824.0000 - val_fn: 87.0000 - val_precision: 1.0000 - val_recall: 0.1792 - val_auc: 0.9684 - val_prc: 0.5931\n",
      "Epoch 10/300\n",
      "55/55 [==============================] - 0s 2ms/step - loss: 0.0391 - tp: 142.0000 - fp: 15.0000 - tn: 27279.0000 - fn: 280.0000 - precision: 0.9045 - recall: 0.3365 - auc: 0.9662 - prc: 0.5756 - val_loss: 0.0361 - val_tp: 44.0000 - val_fp: 10.0000 - val_tn: 6814.0000 - val_fn: 62.0000 - val_precision: 0.8148 - val_recall: 0.4151 - val_auc: 0.9791 - val_prc: 0.6175\n",
      "Epoch 11/300\n",
      "55/55 [==============================] - 0s 3ms/step - loss: 0.0394 - tp: 144.0000 - fp: 25.0000 - tn: 27269.0000 - fn: 278.0000 - precision: 0.8521 - recall: 0.3412 - auc: 0.9642 - prc: 0.5461 - val_loss: 0.0356 - val_tp: 50.0000 - val_fp: 14.0000 - val_tn: 6810.0000 - val_fn: 56.0000 - val_precision: 0.7812 - val_recall: 0.4717 - val_auc: 0.9820 - val_prc: 0.6152\n",
      "Epoch 12/300\n",
      "55/55 [==============================] - 0s 4ms/step - loss: 0.0342 - tp: 161.0000 - fp: 22.0000 - tn: 27272.0000 - fn: 261.0000 - precision: 0.8798 - recall: 0.3815 - auc: 0.9764 - prc: 0.6366 - val_loss: 0.0331 - val_tp: 33.0000 - val_fp: 0.0000e+00 - val_tn: 6824.0000 - val_fn: 73.0000 - val_precision: 1.0000 - val_recall: 0.3113 - val_auc: 0.9867 - val_prc: 0.6741\n",
      "Epoch 13/300\n",
      "55/55 [==============================] - 0s 3ms/step - loss: 0.0308 - tp: 175.0000 - fp: 12.0000 - tn: 27282.0000 - fn: 247.0000 - precision: 0.9358 - recall: 0.4147 - auc: 0.9773 - prc: 0.6948 - val_loss: 0.0355 - val_tp: 60.0000 - val_fp: 33.0000 - val_tn: 6791.0000 - val_fn: 46.0000 - val_precision: 0.6452 - val_recall: 0.5660 - val_auc: 0.9867 - val_prc: 0.6739\n",
      "Epoch 14/300\n",
      "55/55 [==============================] - 0s 2ms/step - loss: 0.0318 - tp: 171.0000 - fp: 40.0000 - tn: 27254.0000 - fn: 251.0000 - precision: 0.8104 - recall: 0.4052 - auc: 0.9771 - prc: 0.6575 - val_loss: 0.0302 - val_tp: 53.0000 - val_fp: 17.0000 - val_tn: 6807.0000 - val_fn: 53.0000 - val_precision: 0.7571 - val_recall: 0.5000 - val_auc: 0.9875 - val_prc: 0.7094\n",
      "Epoch 15/300\n",
      "55/55 [==============================] - 0s 3ms/step - loss: 0.0306 - tp: 175.0000 - fp: 32.0000 - tn: 27262.0000 - fn: 247.0000 - precision: 0.8454 - recall: 0.4147 - auc: 0.9812 - prc: 0.6709 - val_loss: 0.0321 - val_tp: 29.0000 - val_fp: 3.0000 - val_tn: 6821.0000 - val_fn: 77.0000 - val_precision: 0.9062 - val_recall: 0.2736 - val_auc: 0.9764 - val_prc: 0.6630\n",
      "Epoch 16/300\n",
      "55/55 [==============================] - 0s 3ms/step - loss: 0.0316 - tp: 166.0000 - fp: 24.0000 - tn: 27270.0000 - fn: 256.0000 - precision: 0.8737 - recall: 0.3934 - auc: 0.9764 - prc: 0.6559 - val_loss: 0.0326 - val_tp: 65.0000 - val_fp: 41.0000 - val_tn: 6783.0000 - val_fn: 41.0000 - val_precision: 0.6132 - val_recall: 0.6132 - val_auc: 0.9897 - val_prc: 0.7121\n",
      "Epoch 17/300\n",
      "55/55 [==============================] - 0s 4ms/step - loss: 0.0262 - tp: 207.0000 - fp: 33.0000 - tn: 27261.0000 - fn: 215.0000 - precision: 0.8625 - recall: 0.4905 - auc: 0.9877 - prc: 0.7409 - val_loss: 0.0244 - val_tp: 45.0000 - val_fp: 5.0000 - val_tn: 6819.0000 - val_fn: 61.0000 - val_precision: 0.9000 - val_recall: 0.4245 - val_auc: 0.9935 - val_prc: 0.7834\n",
      "Epoch 18/300\n",
      "55/55 [==============================] - 0s 3ms/step - loss: 0.0260 - tp: 205.0000 - fp: 33.0000 - tn: 27261.0000 - fn: 217.0000 - precision: 0.8613 - recall: 0.4858 - auc: 0.9867 - prc: 0.7425 - val_loss: 0.0251 - val_tp: 46.0000 - val_fp: 1.0000 - val_tn: 6823.0000 - val_fn: 60.0000 - val_precision: 0.9787 - val_recall: 0.4340 - val_auc: 0.9909 - val_prc: 0.7860\n",
      "Epoch 19/300\n",
      "55/55 [==============================] - 0s 3ms/step - loss: 0.0264 - tp: 207.0000 - fp: 29.0000 - tn: 27265.0000 - fn: 215.0000 - precision: 0.8771 - recall: 0.4905 - auc: 0.9863 - prc: 0.7328 - val_loss: 0.0227 - val_tp: 65.0000 - val_fp: 11.0000 - val_tn: 6813.0000 - val_fn: 41.0000 - val_precision: 0.8553 - val_recall: 0.6132 - val_auc: 0.9941 - val_prc: 0.8056\n",
      "Epoch 20/300\n",
      "55/55 [==============================] - 0s 2ms/step - loss: 0.0248 - tp: 209.0000 - fp: 35.0000 - tn: 27259.0000 - fn: 213.0000 - precision: 0.8566 - recall: 0.4953 - auc: 0.9877 - prc: 0.7567 - val_loss: 0.0234 - val_tp: 54.0000 - val_fp: 3.0000 - val_tn: 6821.0000 - val_fn: 52.0000 - val_precision: 0.9474 - val_recall: 0.5094 - val_auc: 0.9927 - val_prc: 0.7842\n",
      "Epoch 21/300\n",
      "55/55 [==============================] - 0s 2ms/step - loss: 0.0225 - tp: 231.0000 - fp: 29.0000 - tn: 27265.0000 - fn: 191.0000 - precision: 0.8885 - recall: 0.5474 - auc: 0.9923 - prc: 0.7979 - val_loss: 0.0231 - val_tp: 43.0000 - val_fp: 2.0000 - val_tn: 6822.0000 - val_fn: 63.0000 - val_precision: 0.9556 - val_recall: 0.4057 - val_auc: 0.9949 - val_prc: 0.8078\n",
      "Epoch 22/300\n"
     ]
    },
    {
     "name": "stdout",
     "output_type": "stream",
     "text": [
      "55/55 [==============================] - 0s 1ms/step - loss: 0.0203 - tp: 237.0000 - fp: 22.0000 - tn: 27272.0000 - fn: 185.0000 - precision: 0.9151 - recall: 0.5616 - auc: 0.9939 - prc: 0.8332 - val_loss: 0.0187 - val_tp: 66.0000 - val_fp: 9.0000 - val_tn: 6815.0000 - val_fn: 40.0000 - val_precision: 0.8800 - val_recall: 0.6226 - val_auc: 0.9967 - val_prc: 0.8610\n",
      "Epoch 23/300\n",
      "55/55 [==============================] - 0s 2ms/step - loss: 0.0195 - tp: 243.0000 - fp: 25.0000 - tn: 27269.0000 - fn: 179.0000 - precision: 0.9067 - recall: 0.5758 - auc: 0.9943 - prc: 0.8422 - val_loss: 0.0225 - val_tp: 70.0000 - val_fp: 37.0000 - val_tn: 6787.0000 - val_fn: 36.0000 - val_precision: 0.6542 - val_recall: 0.6604 - val_auc: 0.9964 - val_prc: 0.8287\n",
      "Epoch 24/300\n",
      "55/55 [==============================] - 0s 3ms/step - loss: 0.0196 - tp: 251.0000 - fp: 34.0000 - tn: 27260.0000 - fn: 171.0000 - precision: 0.8807 - recall: 0.5948 - auc: 0.9929 - prc: 0.8410 - val_loss: 0.0184 - val_tp: 73.0000 - val_fp: 16.0000 - val_tn: 6808.0000 - val_fn: 33.0000 - val_precision: 0.8202 - val_recall: 0.6887 - val_auc: 0.9971 - val_prc: 0.8817\n",
      "Epoch 25/300\n",
      "55/55 [==============================] - 0s 4ms/step - loss: 0.0204 - tp: 257.0000 - fp: 39.0000 - tn: 27255.0000 - fn: 165.0000 - precision: 0.8682 - recall: 0.6090 - auc: 0.9934 - prc: 0.8199 - val_loss: 0.0268 - val_tp: 41.0000 - val_fp: 0.0000e+00 - val_tn: 6824.0000 - val_fn: 65.0000 - val_precision: 1.0000 - val_recall: 0.3868 - val_auc: 0.9838 - val_prc: 0.7845\n",
      "Epoch 26/300\n",
      "55/55 [==============================] - 0s 4ms/step - loss: 0.0203 - tp: 258.0000 - fp: 49.0000 - tn: 27245.0000 - fn: 164.0000 - precision: 0.8404 - recall: 0.6114 - auc: 0.9910 - prc: 0.8241 - val_loss: 0.0208 - val_tp: 53.0000 - val_fp: 0.0000e+00 - val_tn: 6824.0000 - val_fn: 53.0000 - val_precision: 1.0000 - val_recall: 0.5000 - val_auc: 0.9954 - val_prc: 0.8510\n",
      "Epoch 27/300\n",
      "55/55 [==============================] - 0s 3ms/step - loss: 0.0188 - tp: 260.0000 - fp: 44.0000 - tn: 27250.0000 - fn: 162.0000 - precision: 0.8553 - recall: 0.6161 - auc: 0.9946 - prc: 0.8374 - val_loss: 0.0207 - val_tp: 63.0000 - val_fp: 11.0000 - val_tn: 6813.0000 - val_fn: 43.0000 - val_precision: 0.8514 - val_recall: 0.5943 - val_auc: 0.9943 - val_prc: 0.8121\n",
      "Epoch 28/300\n",
      "55/55 [==============================] - 0s 3ms/step - loss: 0.0183 - tp: 275.0000 - fp: 42.0000 - tn: 27252.0000 - fn: 147.0000 - precision: 0.8675 - recall: 0.6517 - auc: 0.9924 - prc: 0.8521 - val_loss: 0.0177 - val_tp: 78.0000 - val_fp: 28.0000 - val_tn: 6796.0000 - val_fn: 28.0000 - val_precision: 0.7358 - val_recall: 0.7358 - val_auc: 0.9974 - val_prc: 0.8614\n",
      "Epoch 29/300\n",
      "55/55 [==============================] - 0s 3ms/step - loss: 0.0155 - tp: 286.0000 - fp: 29.0000 - tn: 27265.0000 - fn: 136.0000 - precision: 0.9079 - recall: 0.6777 - auc: 0.9965 - prc: 0.8982 - val_loss: 0.0175 - val_tp: 65.0000 - val_fp: 7.0000 - val_tn: 6817.0000 - val_fn: 41.0000 - val_precision: 0.9028 - val_recall: 0.6132 - val_auc: 0.9969 - val_prc: 0.8638\n",
      "Epoch 30/300\n",
      "55/55 [==============================] - 0s 3ms/step - loss: 0.0153 - tp: 292.0000 - fp: 29.0000 - tn: 27265.0000 - fn: 130.0000 - precision: 0.9097 - recall: 0.6919 - auc: 0.9963 - prc: 0.8987 - val_loss: 0.0167 - val_tp: 86.0000 - val_fp: 21.0000 - val_tn: 6803.0000 - val_fn: 20.0000 - val_precision: 0.8037 - val_recall: 0.8113 - val_auc: 0.9976 - val_prc: 0.8925\n",
      "Epoch 31/300\n",
      "55/55 [==============================] - 0s 3ms/step - loss: 0.0162 - tp: 295.0000 - fp: 54.0000 - tn: 27240.0000 - fn: 127.0000 - precision: 0.8453 - recall: 0.6991 - auc: 0.9960 - prc: 0.8764 - val_loss: 0.0195 - val_tp: 56.0000 - val_fp: 6.0000 - val_tn: 6818.0000 - val_fn: 50.0000 - val_precision: 0.9032 - val_recall: 0.5283 - val_auc: 0.9964 - val_prc: 0.8405\n",
      "Epoch 32/300\n",
      "55/55 [==============================] - 0s 4ms/step - loss: 0.0144 - tp: 314.0000 - fp: 33.0000 - tn: 27261.0000 - fn: 108.0000 - precision: 0.9049 - recall: 0.7441 - auc: 0.9965 - prc: 0.9041 - val_loss: 0.0217 - val_tp: 89.0000 - val_fp: 37.0000 - val_tn: 6787.0000 - val_fn: 17.0000 - val_precision: 0.7063 - val_recall: 0.8396 - val_auc: 0.9956 - val_prc: 0.8893\n",
      "Epoch 33/300\n",
      "55/55 [==============================] - 0s 3ms/step - loss: 0.0150 - tp: 300.0000 - fp: 50.0000 - tn: 27244.0000 - fn: 122.0000 - precision: 0.8571 - recall: 0.7109 - auc: 0.9974 - prc: 0.8923 - val_loss: 0.0179 - val_tp: 63.0000 - val_fp: 1.0000 - val_tn: 6823.0000 - val_fn: 43.0000 - val_precision: 0.9844 - val_recall: 0.5943 - val_auc: 0.9959 - val_prc: 0.8827\n",
      "Epoch 34/300\n",
      "55/55 [==============================] - 0s 3ms/step - loss: 0.0149 - tp: 311.0000 - fp: 31.0000 - tn: 27263.0000 - fn: 111.0000 - precision: 0.9094 - recall: 0.7370 - auc: 0.9972 - prc: 0.8977 - val_loss: 0.0188 - val_tp: 53.0000 - val_fp: 0.0000e+00 - val_tn: 6824.0000 - val_fn: 53.0000 - val_precision: 1.0000 - val_recall: 0.5000 - val_auc: 0.9878 - val_prc: 0.8935\n",
      "Epoch 35/300\n",
      "55/55 [==============================] - 0s 2ms/step - loss: 0.0129 - tp: 321.0000 - fp: 29.0000 - tn: 27265.0000 - fn: 101.0000 - precision: 0.9171 - recall: 0.7607 - auc: 0.9971 - prc: 0.9245 - val_loss: 0.0213 - val_tp: 82.0000 - val_fp: 33.0000 - val_tn: 6791.0000 - val_fn: 24.0000 - val_precision: 0.7130 - val_recall: 0.7736 - val_auc: 0.9945 - val_prc: 0.8245\n",
      "Epoch 36/300\n",
      "55/55 [==============================] - 0s 4ms/step - loss: 0.0125 - tp: 330.0000 - fp: 37.0000 - tn: 27257.0000 - fn: 92.0000 - precision: 0.8992 - recall: 0.7820 - auc: 0.9982 - prc: 0.9270 - val_loss: 0.0183 - val_tp: 100.0000 - val_fp: 46.0000 - val_tn: 6778.0000 - val_fn: 6.0000 - val_precision: 0.6849 - val_recall: 0.9434 - val_auc: 0.9986 - val_prc: 0.9323\n",
      "Epoch 37/300\n",
      "55/55 [==============================] - 0s 4ms/step - loss: 0.0140 - tp: 323.0000 - fp: 46.0000 - tn: 27248.0000 - fn: 99.0000 - precision: 0.8753 - recall: 0.7654 - auc: 0.9942 - prc: 0.9067 - val_loss: 0.0142 - val_tp: 71.0000 - val_fp: 1.0000 - val_tn: 6823.0000 - val_fn: 35.0000 - val_precision: 0.9861 - val_recall: 0.6698 - val_auc: 0.9979 - val_prc: 0.9221\n",
      "Epoch 38/300\n",
      "55/55 [==============================] - 0s 3ms/step - loss: 0.0138 - tp: 324.0000 - fp: 40.0000 - tn: 27254.0000 - fn: 98.0000 - precision: 0.8901 - recall: 0.7678 - auc: 0.9943 - prc: 0.9077 - val_loss: 0.0165 - val_tp: 82.0000 - val_fp: 26.0000 - val_tn: 6798.0000 - val_fn: 24.0000 - val_precision: 0.7593 - val_recall: 0.7736 - val_auc: 0.9971 - val_prc: 0.8658\n",
      "Epoch 39/300\n",
      "55/55 [==============================] - 0s 2ms/step - loss: 0.0135 - tp: 328.0000 - fp: 47.0000 - tn: 27247.0000 - fn: 94.0000 - precision: 0.8747 - recall: 0.7773 - auc: 0.9980 - prc: 0.9111 - val_loss: 0.0142 - val_tp: 74.0000 - val_fp: 4.0000 - val_tn: 6820.0000 - val_fn: 32.0000 - val_precision: 0.9487 - val_recall: 0.6981 - val_auc: 0.9978 - val_prc: 0.9078\n",
      "Epoch 40/300\n",
      "55/55 [==============================] - 0s 2ms/step - loss: 0.0106 - tp: 342.0000 - fp: 30.0000 - tn: 27264.0000 - fn: 80.0000 - precision: 0.9194 - recall: 0.8104 - auc: 0.9978 - prc: 0.9467 - val_loss: 0.0123 - val_tp: 89.0000 - val_fp: 16.0000 - val_tn: 6808.0000 - val_fn: 17.0000 - val_precision: 0.8476 - val_recall: 0.8396 - val_auc: 0.9986 - val_prc: 0.9302\n",
      "Epoch 41/300\n",
      "55/55 [==============================] - 0s 2ms/step - loss: 0.0112 - tp: 345.0000 - fp: 35.0000 - tn: 27259.0000 - fn: 77.0000 - precision: 0.9079 - recall: 0.8175 - auc: 0.9975 - prc: 0.9378 - val_loss: 0.0183 - val_tp: 81.0000 - val_fp: 33.0000 - val_tn: 6791.0000 - val_fn: 25.0000 - val_precision: 0.7105 - val_recall: 0.7642 - val_auc: 0.9963 - val_prc: 0.8602\n",
      "Epoch 42/300\n",
      "55/55 [==============================] - 0s 3ms/step - loss: 0.0128 - tp: 337.0000 - fp: 50.0000 - tn: 27244.0000 - fn: 85.0000 - precision: 0.8708 - recall: 0.7986 - auc: 0.9971 - prc: 0.9165 - val_loss: 0.0152 - val_tp: 65.0000 - val_fp: 5.0000 - val_tn: 6819.0000 - val_fn: 41.0000 - val_precision: 0.9286 - val_recall: 0.6132 - val_auc: 0.9985 - val_prc: 0.9146\n",
      "Epoch 43/300\n",
      "55/55 [==============================] - 0s 4ms/step - loss: 0.0127 - tp: 344.0000 - fp: 37.0000 - tn: 27257.0000 - fn: 78.0000 - precision: 0.9029 - recall: 0.8152 - auc: 0.9945 - prc: 0.9184 - val_loss: 0.0125 - val_tp: 75.0000 - val_fp: 2.0000 - val_tn: 6822.0000 - val_fn: 31.0000 - val_precision: 0.9740 - val_recall: 0.7075 - val_auc: 0.9988 - val_prc: 0.9464\n"
     ]
    },
    {
     "name": "stdout",
     "output_type": "stream",
     "text": [
      "Epoch 44/300\n",
      "55/55 [==============================] - 0s 3ms/step - loss: 0.0106 - tp: 348.0000 - fp: 26.0000 - tn: 27268.0000 - fn: 74.0000 - precision: 0.9305 - recall: 0.8246 - auc: 0.9964 - prc: 0.9452 - val_loss: 0.0191 - val_tp: 100.0000 - val_fp: 56.0000 - val_tn: 6768.0000 - val_fn: 6.0000 - val_precision: 0.6410 - val_recall: 0.9434 - val_auc: 0.9988 - val_prc: 0.9427\n",
      "Epoch 45/300\n",
      "55/55 [==============================] - 0s 2ms/step - loss: 0.0126 - tp: 336.0000 - fp: 47.0000 - tn: 27247.0000 - fn: 86.0000 - precision: 0.8773 - recall: 0.7962 - auc: 0.9947 - prc: 0.9193 - val_loss: 0.0110 - val_tp: 87.0000 - val_fp: 8.0000 - val_tn: 6816.0000 - val_fn: 19.0000 - val_precision: 0.9158 - val_recall: 0.8208 - val_auc: 0.9988 - val_prc: 0.9415\n",
      "Epoch 46/300\n",
      "55/55 [==============================] - 0s 2ms/step - loss: 0.0089 - tp: 360.0000 - fp: 19.0000 - tn: 27275.0000 - fn: 62.0000 - precision: 0.9499 - recall: 0.8531 - auc: 0.9992 - prc: 0.9625 - val_loss: 0.0127 - val_tp: 76.0000 - val_fp: 3.0000 - val_tn: 6821.0000 - val_fn: 30.0000 - val_precision: 0.9620 - val_recall: 0.7170 - val_auc: 0.9983 - val_prc: 0.9383\n",
      "Epoch 47/300\n",
      "55/55 [==============================] - 0s 2ms/step - loss: 0.0109 - tp: 342.0000 - fp: 42.0000 - tn: 27252.0000 - fn: 80.0000 - precision: 0.8906 - recall: 0.8104 - auc: 0.9964 - prc: 0.9396 - val_loss: 0.0124 - val_tp: 101.0000 - val_fp: 27.0000 - val_tn: 6797.0000 - val_fn: 5.0000 - val_precision: 0.7891 - val_recall: 0.9528 - val_auc: 0.9989 - val_prc: 0.9373\n",
      "Epoch 48/300\n",
      "55/55 [==============================] - 0s 2ms/step - loss: 0.0116 - tp: 338.0000 - fp: 48.0000 - tn: 27246.0000 - fn: 84.0000 - precision: 0.8756 - recall: 0.8009 - auc: 0.9985 - prc: 0.9276 - val_loss: 0.0098 - val_tp: 86.0000 - val_fp: 1.0000 - val_tn: 6823.0000 - val_fn: 20.0000 - val_precision: 0.9885 - val_recall: 0.8113 - val_auc: 0.9991 - val_prc: 0.9610\n",
      "Epoch 49/300\n",
      "55/55 [==============================] - 0s 2ms/step - loss: 0.0101 - tp: 358.0000 - fp: 33.0000 - tn: 27261.0000 - fn: 64.0000 - precision: 0.9156 - recall: 0.8483 - auc: 0.9990 - prc: 0.9474 - val_loss: 0.0198 - val_tp: 64.0000 - val_fp: 4.0000 - val_tn: 6820.0000 - val_fn: 42.0000 - val_precision: 0.9412 - val_recall: 0.6038 - val_auc: 0.9876 - val_prc: 0.8598\n",
      "Epoch 50/300\n",
      "55/55 [==============================] - 0s 2ms/step - loss: 0.0155 - tp: 322.0000 - fp: 51.0000 - tn: 27243.0000 - fn: 100.0000 - precision: 0.8633 - recall: 0.7630 - auc: 0.9947 - prc: 0.8796 - val_loss: 0.0183 - val_tp: 61.0000 - val_fp: 5.0000 - val_tn: 6819.0000 - val_fn: 45.0000 - val_precision: 0.9242 - val_recall: 0.5755 - val_auc: 0.9919 - val_prc: 0.8629\n",
      "Epoch 51/300\n",
      "55/55 [==============================] - 0s 3ms/step - loss: 0.0096 - tp: 359.0000 - fp: 31.0000 - tn: 27263.0000 - fn: 63.0000 - precision: 0.9205 - recall: 0.8507 - auc: 0.9990 - prc: 0.9534 - val_loss: 0.0129 - val_tp: 74.0000 - val_fp: 1.0000 - val_tn: 6823.0000 - val_fn: 32.0000 - val_precision: 0.9867 - val_recall: 0.6981 - val_auc: 0.9986 - val_prc: 0.9379\n",
      "Epoch 52/300\n",
      "55/55 [==============================] - 0s 4ms/step - loss: 0.0100 - tp: 351.0000 - fp: 40.0000 - tn: 27254.0000 - fn: 71.0000 - precision: 0.8977 - recall: 0.8318 - auc: 0.9989 - prc: 0.9480 - val_loss: 0.0106 - val_tp: 79.0000 - val_fp: 2.0000 - val_tn: 6822.0000 - val_fn: 27.0000 - val_precision: 0.9753 - val_recall: 0.7453 - val_auc: 0.9992 - val_prc: 0.9605\n",
      "Epoch 53/300\n",
      "55/55 [==============================] - 0s 3ms/step - loss: 0.0084 - tp: 368.0000 - fp: 33.0000 - tn: 27261.0000 - fn: 54.0000 - precision: 0.9177 - recall: 0.8720 - auc: 0.9993 - prc: 0.9646 - val_loss: 0.0128 - val_tp: 81.0000 - val_fp: 3.0000 - val_tn: 6821.0000 - val_fn: 25.0000 - val_precision: 0.9643 - val_recall: 0.7642 - val_auc: 0.9983 - val_prc: 0.9287\n",
      "Epoch 54/300\n",
      "55/55 [==============================] - 0s 2ms/step - loss: 0.0072 - tp: 376.0000 - fp: 23.0000 - tn: 27271.0000 - fn: 46.0000 - precision: 0.9424 - recall: 0.8910 - auc: 0.9995 - prc: 0.9771 - val_loss: 0.0118 - val_tp: 76.0000 - val_fp: 2.0000 - val_tn: 6822.0000 - val_fn: 30.0000 - val_precision: 0.9744 - val_recall: 0.7170 - val_auc: 0.9989 - val_prc: 0.9460\n",
      "Epoch 55/300\n",
      "55/55 [==============================] - 0s 2ms/step - loss: 0.0097 - tp: 363.0000 - fp: 43.0000 - tn: 27251.0000 - fn: 59.0000 - precision: 0.8941 - recall: 0.8602 - auc: 0.9966 - prc: 0.9493 - val_loss: 0.0240 - val_tp: 55.0000 - val_fp: 0.0000e+00 - val_tn: 6824.0000 - val_fn: 51.0000 - val_precision: 1.0000 - val_recall: 0.5189 - val_auc: 0.9751 - val_prc: 0.8994\n",
      "Epoch 56/300\n",
      "55/55 [==============================] - 0s 2ms/step - loss: 0.0119 - tp: 340.0000 - fp: 45.0000 - tn: 27249.0000 - fn: 82.0000 - precision: 0.8831 - recall: 0.8057 - auc: 0.9961 - prc: 0.9251 - val_loss: 0.0086 - val_tp: 89.0000 - val_fp: 4.0000 - val_tn: 6820.0000 - val_fn: 17.0000 - val_precision: 0.9570 - val_recall: 0.8396 - val_auc: 0.9993 - val_prc: 0.9663\n",
      "Epoch 57/300\n",
      "55/55 [==============================] - 0s 2ms/step - loss: 0.0067 - tp: 371.0000 - fp: 13.0000 - tn: 27281.0000 - fn: 51.0000 - precision: 0.9661 - recall: 0.8791 - auc: 0.9996 - prc: 0.9808 - val_loss: 0.0124 - val_tp: 87.0000 - val_fp: 22.0000 - val_tn: 6802.0000 - val_fn: 19.0000 - val_precision: 0.7982 - val_recall: 0.8208 - val_auc: 0.9985 - val_prc: 0.9252\n",
      "Epoch 58/300\n",
      "55/55 [==============================] - 0s 2ms/step - loss: 0.0079 - tp: 370.0000 - fp: 27.0000 - tn: 27267.0000 - fn: 52.0000 - precision: 0.9320 - recall: 0.8768 - auc: 0.9994 - prc: 0.9670 - val_loss: 0.0103 - val_tp: 83.0000 - val_fp: 4.0000 - val_tn: 6820.0000 - val_fn: 23.0000 - val_precision: 0.9540 - val_recall: 0.7830 - val_auc: 0.9991 - val_prc: 0.9550\n",
      "Epoch 59/300\n",
      "55/55 [==============================] - 0s 2ms/step - loss: 0.0091 - tp: 365.0000 - fp: 30.0000 - tn: 27264.0000 - fn: 57.0000 - precision: 0.9241 - recall: 0.8649 - auc: 0.9967 - prc: 0.9575 - val_loss: 0.0125 - val_tp: 97.0000 - val_fp: 30.0000 - val_tn: 6794.0000 - val_fn: 9.0000 - val_precision: 0.7638 - val_recall: 0.9151 - val_auc: 0.9988 - val_prc: 0.9385\n",
      "Epoch 60/300\n",
      "55/55 [==============================] - 0s 3ms/step - loss: 0.0061 - tp: 384.0000 - fp: 21.0000 - tn: 27273.0000 - fn: 38.0000 - precision: 0.9481 - recall: 0.9100 - auc: 0.9997 - prc: 0.9832 - val_loss: 0.0121 - val_tp: 83.0000 - val_fp: 10.0000 - val_tn: 6814.0000 - val_fn: 23.0000 - val_precision: 0.8925 - val_recall: 0.7830 - val_auc: 0.9983 - val_prc: 0.9242\n",
      "Epoch 61/300\n",
      "55/55 [==============================] - 0s 2ms/step - loss: 0.0125 - tp: 353.0000 - fp: 54.0000 - tn: 27240.0000 - fn: 69.0000 - precision: 0.8673 - recall: 0.8365 - auc: 0.9915 - prc: 0.9234 - val_loss: 0.0093 - val_tp: 92.0000 - val_fp: 8.0000 - val_tn: 6816.0000 - val_fn: 14.0000 - val_precision: 0.9200 - val_recall: 0.8679 - val_auc: 0.9989 - val_prc: 0.9590\n",
      "Epoch 62/300\n",
      "55/55 [==============================] - 0s 2ms/step - loss: 0.0080 - tp: 373.0000 - fp: 30.0000 - tn: 27264.0000 - fn: 49.0000 - precision: 0.9256 - recall: 0.8839 - auc: 0.9993 - prc: 0.9659 - val_loss: 0.0247 - val_tp: 57.0000 - val_fp: 1.0000 - val_tn: 6823.0000 - val_fn: 49.0000 - val_precision: 0.9828 - val_recall: 0.5377 - val_auc: 0.9518 - val_prc: 0.8772\n",
      "Epoch 63/300\n",
      "55/55 [==============================] - 0s 2ms/step - loss: 0.0094 - tp: 369.0000 - fp: 30.0000 - tn: 27264.0000 - fn: 53.0000 - precision: 0.9248 - recall: 0.8744 - auc: 0.9931 - prc: 0.9515 - val_loss: 0.0156 - val_tp: 69.0000 - val_fp: 1.0000 - val_tn: 6823.0000 - val_fn: 37.0000 - val_precision: 0.9857 - val_recall: 0.6509 - val_auc: 0.9891 - val_prc: 0.9268\n",
      "Epoch 64/300\n",
      "55/55 [==============================] - 0s 2ms/step - loss: 0.0089 - tp: 367.0000 - fp: 36.0000 - tn: 27258.0000 - fn: 55.0000 - precision: 0.9107 - recall: 0.8697 - auc: 0.9991 - prc: 0.9560 - val_loss: 0.0129 - val_tp: 71.0000 - val_fp: 3.0000 - val_tn: 6821.0000 - val_fn: 35.0000 - val_precision: 0.9595 - val_recall: 0.6698 - val_auc: 0.9991 - val_prc: 0.9544\n",
      "Epoch 65/300\n",
      "55/55 [==============================] - 0s 2ms/step - loss: 0.0065 - tp: 382.0000 - fp: 17.0000 - tn: 27277.0000 - fn: 40.0000 - precision: 0.9574 - recall: 0.9052 - auc: 0.9984 - prc: 0.9773 - val_loss: 0.0113 - val_tp: 89.0000 - val_fp: 13.0000 - val_tn: 6811.0000 - val_fn: 17.0000 - val_precision: 0.8725 - val_recall: 0.8396 - val_auc: 0.9984 - val_prc: 0.9344\n"
     ]
    },
    {
     "name": "stdout",
     "output_type": "stream",
     "text": [
      "Epoch 66/300\n",
      "55/55 [==============================] - 0s 3ms/step - loss: 0.0072 - tp: 370.0000 - fp: 25.0000 - tn: 27269.0000 - fn: 52.0000 - precision: 0.9367 - recall: 0.8768 - auc: 0.9995 - prc: 0.9725 - val_loss: 0.0118 - val_tp: 81.0000 - val_fp: 7.0000 - val_tn: 6817.0000 - val_fn: 25.0000 - val_precision: 0.9205 - val_recall: 0.7642 - val_auc: 0.9983 - val_prc: 0.9327\n",
      "Epoch 67/300\n",
      "55/55 [==============================] - 0s 3ms/step - loss: 0.0087 - tp: 367.0000 - fp: 34.0000 - tn: 27260.0000 - fn: 55.0000 - precision: 0.9152 - recall: 0.8697 - auc: 0.9980 - prc: 0.9578 - val_loss: 0.0125 - val_tp: 96.0000 - val_fp: 24.0000 - val_tn: 6800.0000 - val_fn: 10.0000 - val_precision: 0.8000 - val_recall: 0.9057 - val_auc: 0.9988 - val_prc: 0.9242\n",
      "Epoch 68/300\n",
      "55/55 [==============================] - 0s 4ms/step - loss: 0.0115 - tp: 356.0000 - fp: 48.0000 - tn: 27246.0000 - fn: 66.0000 - precision: 0.8812 - recall: 0.8436 - auc: 0.9962 - prc: 0.9275 - val_loss: 0.0131 - val_tp: 80.0000 - val_fp: 8.0000 - val_tn: 6816.0000 - val_fn: 26.0000 - val_precision: 0.9091 - val_recall: 0.7547 - val_auc: 0.9978 - val_prc: 0.9124\n",
      "Epoch 69/300\n",
      "55/55 [==============================] - 0s 2ms/step - loss: 0.0065 - tp: 386.0000 - fp: 23.0000 - tn: 27271.0000 - fn: 36.0000 - precision: 0.9438 - recall: 0.9147 - auc: 0.9996 - prc: 0.9791 - val_loss: 0.0127 - val_tp: 73.0000 - val_fp: 3.0000 - val_tn: 6821.0000 - val_fn: 33.0000 - val_precision: 0.9605 - val_recall: 0.6887 - val_auc: 0.9946 - val_prc: 0.9534\n",
      "Epoch 70/300\n",
      "55/55 [==============================] - 0s 2ms/step - loss: 0.0106 - tp: 351.0000 - fp: 39.0000 - tn: 27255.0000 - fn: 71.0000 - precision: 0.9000 - recall: 0.8318 - auc: 0.9964 - prc: 0.9386 - val_loss: 0.0308 - val_tp: 105.0000 - val_fp: 80.0000 - val_tn: 6744.0000 - val_fn: 1.0000 - val_precision: 0.5676 - val_recall: 0.9906 - val_auc: 0.9982 - val_prc: 0.9034\n",
      "Epoch 71/300\n",
      "55/55 [==============================] - 0s 2ms/step - loss: 0.0085 - tp: 375.0000 - fp: 34.0000 - tn: 27260.0000 - fn: 47.0000 - precision: 0.9169 - recall: 0.8886 - auc: 0.9991 - prc: 0.9557 - val_loss: 0.0125 - val_tp: 103.0000 - val_fp: 35.0000 - val_tn: 6789.0000 - val_fn: 3.0000 - val_precision: 0.7464 - val_recall: 0.9717 - val_auc: 0.9992 - val_prc: 0.9537\n",
      "Epoch 72/300\n",
      "55/55 [==============================] - 0s 2ms/step - loss: 0.0090 - tp: 367.0000 - fp: 36.0000 - tn: 27258.0000 - fn: 55.0000 - precision: 0.9107 - recall: 0.8697 - auc: 0.9979 - prc: 0.9556 - val_loss: 0.0171 - val_tp: 68.0000 - val_fp: 5.0000 - val_tn: 6819.0000 - val_fn: 38.0000 - val_precision: 0.9315 - val_recall: 0.6415 - val_auc: 0.9844 - val_prc: 0.9039\n",
      "Epoch 73/300\n",
      "55/55 [==============================] - 0s 2ms/step - loss: 0.0077 - tp: 376.0000 - fp: 25.0000 - tn: 27269.0000 - fn: 46.0000 - precision: 0.9377 - recall: 0.8910 - auc: 0.9970 - prc: 0.9660 - val_loss: 0.0075 - val_tp: 95.0000 - val_fp: 10.0000 - val_tn: 6814.0000 - val_fn: 11.0000 - val_precision: 0.9048 - val_recall: 0.8962 - val_auc: 0.9995 - val_prc: 0.9712\n",
      "Epoch 74/300\n",
      "55/55 [==============================] - 0s 2ms/step - loss: 0.0094 - tp: 361.0000 - fp: 43.0000 - tn: 27251.0000 - fn: 61.0000 - precision: 0.8936 - recall: 0.8555 - auc: 0.9979 - prc: 0.9495 - val_loss: 0.0110 - val_tp: 85.0000 - val_fp: 12.0000 - val_tn: 6812.0000 - val_fn: 21.0000 - val_precision: 0.8763 - val_recall: 0.8019 - val_auc: 0.9988 - val_prc: 0.9393\n",
      "Epoch 75/300\n",
      "55/55 [==============================] - 0s 3ms/step - loss: 0.0059 - tp: 386.0000 - fp: 18.0000 - tn: 27276.0000 - fn: 36.0000 - precision: 0.9554 - recall: 0.9147 - auc: 0.9996 - prc: 0.9815 - val_loss: 0.0207 - val_tp: 106.0000 - val_fp: 57.0000 - val_tn: 6767.0000 - val_fn: 0.0000e+00 - val_precision: 0.6503 - val_recall: 1.0000 - val_auc: 0.9994 - val_prc: 0.9672\n",
      "Epoch 76/300\n",
      "55/55 [==============================] - 0s 4ms/step - loss: 0.0066 - tp: 381.0000 - fp: 29.0000 - tn: 27265.0000 - fn: 41.0000 - precision: 0.9293 - recall: 0.9028 - auc: 0.9996 - prc: 0.9764 - val_loss: 0.0094 - val_tp: 84.0000 - val_fp: 3.0000 - val_tn: 6821.0000 - val_fn: 22.0000 - val_precision: 0.9655 - val_recall: 0.7925 - val_auc: 0.9993 - val_prc: 0.9602\n",
      "Epoch 77/300\n",
      "55/55 [==============================] - 0s 2ms/step - loss: 0.0113 - tp: 354.0000 - fp: 41.0000 - tn: 27253.0000 - fn: 68.0000 - precision: 0.8962 - recall: 0.8389 - auc: 0.9882 - prc: 0.9314 - val_loss: 0.0205 - val_tp: 61.0000 - val_fp: 2.0000 - val_tn: 6822.0000 - val_fn: 45.0000 - val_precision: 0.9683 - val_recall: 0.5755 - val_auc: 0.9656 - val_prc: 0.8785\n",
      "Epoch 78/300\n",
      "55/55 [==============================] - 0s 2ms/step - loss: 0.0107 - tp: 355.0000 - fp: 43.0000 - tn: 27251.0000 - fn: 67.0000 - precision: 0.8920 - recall: 0.8412 - auc: 0.9929 - prc: 0.9378 - val_loss: 0.0125 - val_tp: 84.0000 - val_fp: 16.0000 - val_tn: 6808.0000 - val_fn: 22.0000 - val_precision: 0.8400 - val_recall: 0.7925 - val_auc: 0.9981 - val_prc: 0.9193\n",
      "Epoch 79/300\n",
      "55/55 [==============================] - 0s 2ms/step - loss: 0.0098 - tp: 361.0000 - fp: 37.0000 - tn: 27257.0000 - fn: 61.0000 - precision: 0.9070 - recall: 0.8555 - auc: 0.9965 - prc: 0.9485 - val_loss: 0.0087 - val_tp: 89.0000 - val_fp: 6.0000 - val_tn: 6818.0000 - val_fn: 17.0000 - val_precision: 0.9368 - val_recall: 0.8396 - val_auc: 0.9991 - val_prc: 0.9617\n",
      "Epoch 80/300\n",
      "55/55 [==============================] - 0s 2ms/step - loss: 0.0063 - tp: 381.0000 - fp: 25.0000 - tn: 27269.0000 - fn: 41.0000 - precision: 0.9384 - recall: 0.9028 - auc: 0.9996 - prc: 0.9785 - val_loss: 0.0078 - val_tp: 95.0000 - val_fp: 9.0000 - val_tn: 6815.0000 - val_fn: 11.0000 - val_precision: 0.9135 - val_recall: 0.8962 - val_auc: 0.9994 - val_prc: 0.9686\n",
      "Epoch 81/300\n",
      "55/55 [==============================] - 0s 2ms/step - loss: 0.0057 - tp: 387.0000 - fp: 24.0000 - tn: 27270.0000 - fn: 35.0000 - precision: 0.9416 - recall: 0.9171 - auc: 0.9997 - prc: 0.9835 - val_loss: 0.0072 - val_tp: 94.0000 - val_fp: 9.0000 - val_tn: 6815.0000 - val_fn: 12.0000 - val_precision: 0.9126 - val_recall: 0.8868 - val_auc: 0.9995 - val_prc: 0.9733\n",
      "Epoch 82/300\n",
      "55/55 [==============================] - 0s 2ms/step - loss: 0.0061 - tp: 387.0000 - fp: 28.0000 - tn: 27266.0000 - fn: 35.0000 - precision: 0.9325 - recall: 0.9171 - auc: 0.9996 - prc: 0.9785 - val_loss: 0.0090 - val_tp: 86.0000 - val_fp: 1.0000 - val_tn: 6823.0000 - val_fn: 20.0000 - val_precision: 0.9885 - val_recall: 0.8113 - val_auc: 0.9995 - val_prc: 0.9722\n",
      "Epoch 83/300\n",
      "55/55 [==============================] - 0s 3ms/step - loss: 0.0052 - tp: 387.0000 - fp: 23.0000 - tn: 27271.0000 - fn: 35.0000 - precision: 0.9439 - recall: 0.9171 - auc: 0.9997 - prc: 0.9859 - val_loss: 0.0082 - val_tp: 88.0000 - val_fp: 4.0000 - val_tn: 6820.0000 - val_fn: 18.0000 - val_precision: 0.9565 - val_recall: 0.8302 - val_auc: 0.9994 - val_prc: 0.9687\n",
      "Epoch 84/300\n",
      "55/55 [==============================] - 0s 3ms/step - loss: 0.0053 - tp: 389.0000 - fp: 19.0000 - tn: 27275.0000 - fn: 33.0000 - precision: 0.9534 - recall: 0.9218 - auc: 0.9986 - prc: 0.9847 - val_loss: 0.0128 - val_tp: 76.0000 - val_fp: 3.0000 - val_tn: 6821.0000 - val_fn: 30.0000 - val_precision: 0.9620 - val_recall: 0.7170 - val_auc: 0.9943 - val_prc: 0.9412\n",
      "Epoch 85/300\n",
      "55/55 [==============================] - 0s 2ms/step - loss: 0.0044 - tp: 396.0000 - fp: 11.0000 - tn: 27283.0000 - fn: 26.0000 - precision: 0.9730 - recall: 0.9384 - auc: 0.9998 - prc: 0.9902 - val_loss: 0.0088 - val_tp: 85.0000 - val_fp: 5.0000 - val_tn: 6819.0000 - val_fn: 21.0000 - val_precision: 0.9444 - val_recall: 0.8019 - val_auc: 0.9993 - val_prc: 0.9618\n",
      "Epoch 86/300\n",
      "55/55 [==============================] - 0s 2ms/step - loss: 0.0052 - tp: 391.0000 - fp: 19.0000 - tn: 27275.0000 - fn: 31.0000 - precision: 0.9537 - recall: 0.9265 - auc: 0.9986 - prc: 0.9844 - val_loss: 0.0056 - val_tp: 97.0000 - val_fp: 8.0000 - val_tn: 6816.0000 - val_fn: 9.0000 - val_precision: 0.9238 - val_recall: 0.9151 - val_auc: 0.9997 - val_prc: 0.9842\n",
      "Epoch 87/300\n",
      "55/55 [==============================] - 0s 3ms/step - loss: 0.0042 - tp: 403.0000 - fp: 18.0000 - tn: 27276.0000 - fn: 19.0000 - precision: 0.9572 - recall: 0.9550 - auc: 0.9998 - prc: 0.9909 - val_loss: 0.0129 - val_tp: 66.0000 - val_fp: 1.0000 - val_tn: 6823.0000 - val_fn: 40.0000 - val_precision: 0.9851 - val_recall: 0.6226 - val_auc: 0.9995 - val_prc: 0.9682\n"
     ]
    },
    {
     "name": "stdout",
     "output_type": "stream",
     "text": [
      "Epoch 88/300\n",
      "55/55 [==============================] - 0s 3ms/step - loss: 0.0050 - tp: 392.0000 - fp: 16.0000 - tn: 27278.0000 - fn: 30.0000 - precision: 0.9608 - recall: 0.9289 - auc: 0.9962 - prc: 0.9839 - val_loss: 0.0070 - val_tp: 101.0000 - val_fp: 18.0000 - val_tn: 6806.0000 - val_fn: 5.0000 - val_precision: 0.8487 - val_recall: 0.9528 - val_auc: 0.9997 - val_prc: 0.9827\n",
      "Epoch 89/300\n",
      "55/55 [==============================] - 0s 4ms/step - loss: 0.0067 - tp: 381.0000 - fp: 24.0000 - tn: 27270.0000 - fn: 41.0000 - precision: 0.9407 - recall: 0.9028 - auc: 0.9995 - prc: 0.9739 - val_loss: 0.0136 - val_tp: 96.0000 - val_fp: 32.0000 - val_tn: 6792.0000 - val_fn: 10.0000 - val_precision: 0.7500 - val_recall: 0.9057 - val_auc: 0.9988 - val_prc: 0.9494\n",
      "Epoch 90/300\n",
      "55/55 [==============================] - 0s 4ms/step - loss: 0.0056 - tp: 398.0000 - fp: 23.0000 - tn: 27271.0000 - fn: 24.0000 - precision: 0.9454 - recall: 0.9431 - auc: 0.9985 - prc: 0.9804 - val_loss: 0.0074 - val_tp: 87.0000 - val_fp: 2.0000 - val_tn: 6822.0000 - val_fn: 19.0000 - val_precision: 0.9775 - val_recall: 0.8208 - val_auc: 0.9995 - val_prc: 0.9767\n",
      "Epoch 91/300\n",
      "55/55 [==============================] - 0s 3ms/step - loss: 0.0051 - tp: 387.0000 - fp: 18.0000 - tn: 27276.0000 - fn: 35.0000 - precision: 0.9556 - recall: 0.9171 - auc: 0.9997 - prc: 0.9850 - val_loss: 0.0062 - val_tp: 92.0000 - val_fp: 4.0000 - val_tn: 6820.0000 - val_fn: 14.0000 - val_precision: 0.9583 - val_recall: 0.8679 - val_auc: 0.9997 - val_prc: 0.9816\n",
      "Epoch 92/300\n",
      "55/55 [==============================] - 0s 2ms/step - loss: 0.0065 - tp: 387.0000 - fp: 27.0000 - tn: 27267.0000 - fn: 35.0000 - precision: 0.9348 - recall: 0.9171 - auc: 0.9960 - prc: 0.9735 - val_loss: 0.0174 - val_tp: 87.0000 - val_fp: 20.0000 - val_tn: 6804.0000 - val_fn: 19.0000 - val_precision: 0.8131 - val_recall: 0.8208 - val_auc: 0.9788 - val_prc: 0.8835\n",
      "Epoch 93/300\n",
      "55/55 [==============================] - 0s 3ms/step - loss: 0.0070 - tp: 375.0000 - fp: 26.0000 - tn: 27268.0000 - fn: 47.0000 - precision: 0.9352 - recall: 0.8886 - auc: 0.9983 - prc: 0.9712 - val_loss: 0.0094 - val_tp: 82.0000 - val_fp: 1.0000 - val_tn: 6823.0000 - val_fn: 24.0000 - val_precision: 0.9880 - val_recall: 0.7736 - val_auc: 0.9997 - val_prc: 0.9818\n",
      "Epoch 94/300\n",
      "55/55 [==============================] - 0s 3ms/step - loss: 0.0042 - tp: 401.0000 - fp: 13.0000 - tn: 27281.0000 - fn: 21.0000 - precision: 0.9686 - recall: 0.9502 - auc: 0.9998 - prc: 0.9911 - val_loss: 0.0074 - val_tp: 98.0000 - val_fp: 13.0000 - val_tn: 6811.0000 - val_fn: 8.0000 - val_precision: 0.8829 - val_recall: 0.9245 - val_auc: 0.9995 - val_prc: 0.9692\n",
      "Epoch 95/300\n",
      "55/55 [==============================] - 0s 4ms/step - loss: 0.0044 - tp: 395.0000 - fp: 18.0000 - tn: 27276.0000 - fn: 27.0000 - precision: 0.9564 - recall: 0.9360 - auc: 0.9998 - prc: 0.9889 - val_loss: 0.0079 - val_tp: 99.0000 - val_fp: 16.0000 - val_tn: 6808.0000 - val_fn: 7.0000 - val_precision: 0.8609 - val_recall: 0.9340 - val_auc: 0.9995 - val_prc: 0.9689\n",
      "Epoch 96/300\n",
      "55/55 [==============================] - 0s 4ms/step - loss: 0.0051 - tp: 392.0000 - fp: 13.0000 - tn: 27281.0000 - fn: 30.0000 - precision: 0.9679 - recall: 0.9289 - auc: 0.9985 - prc: 0.9843 - val_loss: 0.0071 - val_tp: 91.0000 - val_fp: 4.0000 - val_tn: 6820.0000 - val_fn: 15.0000 - val_precision: 0.9579 - val_recall: 0.8585 - val_auc: 0.9996 - val_prc: 0.9640\n",
      "Epoch 97/300\n",
      "55/55 [==============================] - 0s 2ms/step - loss: 0.0062 - tp: 386.0000 - fp: 28.0000 - tn: 27266.0000 - fn: 36.0000 - precision: 0.9324 - recall: 0.9147 - auc: 0.9961 - prc: 0.9745 - val_loss: 0.0097 - val_tp: 83.0000 - val_fp: 9.0000 - val_tn: 6815.0000 - val_fn: 23.0000 - val_precision: 0.9022 - val_recall: 0.7830 - val_auc: 0.9992 - val_prc: 0.9427\n",
      "Epoch 98/300\n",
      "55/55 [==============================] - 0s 2ms/step - loss: 0.0069 - tp: 378.0000 - fp: 26.0000 - tn: 27268.0000 - fn: 44.0000 - precision: 0.9356 - recall: 0.8957 - auc: 0.9983 - prc: 0.9710 - val_loss: 0.0106 - val_tp: 102.0000 - val_fp: 25.0000 - val_tn: 6799.0000 - val_fn: 4.0000 - val_precision: 0.8031 - val_recall: 0.9623 - val_auc: 0.9994 - val_prc: 0.9677\n",
      "Epoch 99/300\n",
      "55/55 [==============================] - 0s 2ms/step - loss: 0.0071 - tp: 386.0000 - fp: 33.0000 - tn: 27261.0000 - fn: 36.0000 - precision: 0.9212 - recall: 0.9147 - auc: 0.9971 - prc: 0.9683 - val_loss: 0.0070 - val_tp: 91.0000 - val_fp: 5.0000 - val_tn: 6819.0000 - val_fn: 15.0000 - val_precision: 0.9479 - val_recall: 0.8585 - val_auc: 0.9996 - val_prc: 0.9788\n",
      "Epoch 100/300\n",
      "55/55 [==============================] - 0s 3ms/step - loss: 0.0058 - tp: 386.0000 - fp: 18.0000 - tn: 27276.0000 - fn: 36.0000 - precision: 0.9554 - recall: 0.9147 - auc: 0.9997 - prc: 0.9807 - val_loss: 0.0084 - val_tp: 81.0000 - val_fp: 1.0000 - val_tn: 6823.0000 - val_fn: 25.0000 - val_precision: 0.9878 - val_recall: 0.7642 - val_auc: 0.9996 - val_prc: 0.9803\n",
      "Epoch 101/300\n",
      "55/55 [==============================] - 0s 2ms/step - loss: 0.0046 - tp: 401.0000 - fp: 15.0000 - tn: 27279.0000 - fn: 21.0000 - precision: 0.9639 - recall: 0.9502 - auc: 0.9986 - prc: 0.9872 - val_loss: 0.0074 - val_tp: 87.0000 - val_fp: 2.0000 - val_tn: 6822.0000 - val_fn: 19.0000 - val_precision: 0.9775 - val_recall: 0.8208 - val_auc: 0.9996 - val_prc: 0.9768\n",
      "Epoch 102/300\n",
      "55/55 [==============================] - 0s 2ms/step - loss: 0.0117 - tp: 361.0000 - fp: 52.0000 - tn: 27242.0000 - fn: 61.0000 - precision: 0.8741 - recall: 0.8555 - auc: 0.9895 - prc: 0.9362 - val_loss: 0.0166 - val_tp: 92.0000 - val_fp: 35.0000 - val_tn: 6789.0000 - val_fn: 14.0000 - val_precision: 0.7244 - val_recall: 0.8679 - val_auc: 0.9980 - val_prc: 0.9026\n",
      "Epoch 103/300\n",
      "55/55 [==============================] - 0s 3ms/step - loss: 0.0076 - tp: 375.0000 - fp: 25.0000 - tn: 27269.0000 - fn: 47.0000 - precision: 0.9375 - recall: 0.8886 - auc: 0.9947 - prc: 0.9685 - val_loss: 0.0053 - val_tp: 101.0000 - val_fp: 9.0000 - val_tn: 6815.0000 - val_fn: 5.0000 - val_precision: 0.9182 - val_recall: 0.9528 - val_auc: 0.9998 - val_prc: 0.9896\n",
      "Epoch 104/300\n",
      "55/55 [==============================] - 0s 2ms/step - loss: 0.0039 - tp: 396.0000 - fp: 8.0000 - tn: 27286.0000 - fn: 26.0000 - precision: 0.9802 - recall: 0.9384 - auc: 0.9999 - prc: 0.9923 - val_loss: 0.0080 - val_tp: 105.0000 - val_fp: 15.0000 - val_tn: 6809.0000 - val_fn: 1.0000 - val_precision: 0.8750 - val_recall: 0.9906 - val_auc: 0.9997 - val_prc: 0.9823\n",
      "Epoch 105/300\n",
      "55/55 [==============================] - 0s 2ms/step - loss: 0.0046 - tp: 395.0000 - fp: 20.0000 - tn: 27274.0000 - fn: 27.0000 - precision: 0.9518 - recall: 0.9360 - auc: 0.9998 - prc: 0.9878 - val_loss: 0.0053 - val_tp: 105.0000 - val_fp: 12.0000 - val_tn: 6812.0000 - val_fn: 1.0000 - val_precision: 0.8974 - val_recall: 0.9906 - val_auc: 0.9999 - val_prc: 0.9934\n",
      "Epoch 106/300\n",
      "55/55 [==============================] - 0s 2ms/step - loss: 0.0027 - tp: 410.0000 - fp: 7.0000 - tn: 27287.0000 - fn: 12.0000 - precision: 0.9832 - recall: 0.9716 - auc: 0.9999 - prc: 0.9970 - val_loss: 0.0073 - val_tp: 92.0000 - val_fp: 7.0000 - val_tn: 6817.0000 - val_fn: 14.0000 - val_precision: 0.9293 - val_recall: 0.8679 - val_auc: 0.9994 - val_prc: 0.9674\n",
      "Epoch 107/300\n",
      "55/55 [==============================] - 0s 2ms/step - loss: 0.0028 - tp: 410.0000 - fp: 9.0000 - tn: 27285.0000 - fn: 12.0000 - precision: 0.9785 - recall: 0.9716 - auc: 0.9999 - prc: 0.9956 - val_loss: 0.0124 - val_tp: 90.0000 - val_fp: 20.0000 - val_tn: 6804.0000 - val_fn: 16.0000 - val_precision: 0.8182 - val_recall: 0.8491 - val_auc: 0.9989 - val_prc: 0.9261\n",
      "Epoch 108/300\n",
      "55/55 [==============================] - 0s 1ms/step - loss: 0.0038 - tp: 401.0000 - fp: 11.0000 - tn: 27283.0000 - fn: 21.0000 - precision: 0.9733 - recall: 0.9502 - auc: 0.9987 - prc: 0.9905 - val_loss: 0.0041 - val_tp: 102.0000 - val_fp: 8.0000 - val_tn: 6816.0000 - val_fn: 4.0000 - val_precision: 0.9273 - val_recall: 0.9623 - val_auc: 0.9999 - val_prc: 0.9939\n",
      "Epoch 109/300\n",
      "55/55 [==============================] - 0s 2ms/step - loss: 0.0039 - tp: 399.0000 - fp: 15.0000 - tn: 27279.0000 - fn: 23.0000 - precision: 0.9638 - recall: 0.9455 - auc: 0.9998 - prc: 0.9913 - val_loss: 0.0061 - val_tp: 89.0000 - val_fp: 3.0000 - val_tn: 6821.0000 - val_fn: 17.0000 - val_precision: 0.9674 - val_recall: 0.8396 - val_auc: 0.9997 - val_prc: 0.9823\n"
     ]
    },
    {
     "name": "stdout",
     "output_type": "stream",
     "text": [
      "Epoch 110/300\n",
      "55/55 [==============================] - 0s 2ms/step - loss: 0.0033 - tp: 400.0000 - fp: 9.0000 - tn: 27285.0000 - fn: 22.0000 - precision: 0.9780 - recall: 0.9479 - auc: 0.9999 - prc: 0.9950 - val_loss: 0.0062 - val_tp: 97.0000 - val_fp: 7.0000 - val_tn: 6817.0000 - val_fn: 9.0000 - val_precision: 0.9327 - val_recall: 0.9151 - val_auc: 0.9996 - val_prc: 0.9780\n",
      "Epoch 111/300\n",
      "55/55 [==============================] - 0s 2ms/step - loss: 0.0036 - tp: 399.0000 - fp: 12.0000 - tn: 27282.0000 - fn: 23.0000 - precision: 0.9708 - recall: 0.9455 - auc: 0.9987 - prc: 0.9914 - val_loss: 0.0045 - val_tp: 103.0000 - val_fp: 10.0000 - val_tn: 6814.0000 - val_fn: 3.0000 - val_precision: 0.9115 - val_recall: 0.9717 - val_auc: 0.9999 - val_prc: 0.9920\n",
      "Epoch 112/300\n",
      "55/55 [==============================] - 0s 2ms/step - loss: 0.0035 - tp: 400.0000 - fp: 16.0000 - tn: 27278.0000 - fn: 22.0000 - precision: 0.9615 - recall: 0.9479 - auc: 0.9999 - prc: 0.9931 - val_loss: 0.0057 - val_tp: 95.0000 - val_fp: 10.0000 - val_tn: 6814.0000 - val_fn: 11.0000 - val_precision: 0.9048 - val_recall: 0.8962 - val_auc: 0.9997 - val_prc: 0.9806\n",
      "Epoch 113/300\n",
      "55/55 [==============================] - 0s 2ms/step - loss: 0.0052 - tp: 391.0000 - fp: 31.0000 - tn: 27263.0000 - fn: 31.0000 - precision: 0.9265 - recall: 0.9265 - auc: 0.9997 - prc: 0.9842 - val_loss: 0.0094 - val_tp: 80.0000 - val_fp: 1.0000 - val_tn: 6823.0000 - val_fn: 26.0000 - val_precision: 0.9877 - val_recall: 0.7547 - val_auc: 0.9997 - val_prc: 0.9800\n",
      "Epoch 114/300\n",
      "55/55 [==============================] - 0s 3ms/step - loss: 0.0063 - tp: 391.0000 - fp: 28.0000 - tn: 27266.0000 - fn: 31.0000 - precision: 0.9332 - recall: 0.9265 - auc: 0.9984 - prc: 0.9741 - val_loss: 0.0103 - val_tp: 82.0000 - val_fp: 3.0000 - val_tn: 6821.0000 - val_fn: 24.0000 - val_precision: 0.9647 - val_recall: 0.7736 - val_auc: 0.9994 - val_prc: 0.9514\n",
      "Epoch 115/300\n",
      "55/55 [==============================] - 0s 2ms/step - loss: 0.0058 - tp: 387.0000 - fp: 27.0000 - tn: 27267.0000 - fn: 35.0000 - precision: 0.9348 - recall: 0.9171 - auc: 0.9996 - prc: 0.9773 - val_loss: 0.0081 - val_tp: 83.0000 - val_fp: 0.0000e+00 - val_tn: 6824.0000 - val_fn: 23.0000 - val_precision: 1.0000 - val_recall: 0.7830 - val_auc: 0.9998 - val_prc: 0.9906\n",
      "Epoch 116/300\n",
      "55/55 [==============================] - 0s 2ms/step - loss: 0.0060 - tp: 386.0000 - fp: 27.0000 - tn: 27267.0000 - fn: 36.0000 - precision: 0.9346 - recall: 0.9147 - auc: 0.9973 - prc: 0.9783 - val_loss: 0.0058 - val_tp: 100.0000 - val_fp: 8.0000 - val_tn: 6816.0000 - val_fn: 6.0000 - val_precision: 0.9259 - val_recall: 0.9434 - val_auc: 0.9998 - val_prc: 0.9837\n",
      "Epoch 117/300\n",
      "55/55 [==============================] - 0s 2ms/step - loss: 0.0088 - tp: 381.0000 - fp: 33.0000 - tn: 27261.0000 - fn: 41.0000 - precision: 0.9203 - recall: 0.9028 - auc: 0.9922 - prc: 0.9481 - val_loss: 0.0059 - val_tp: 98.0000 - val_fp: 7.0000 - val_tn: 6817.0000 - val_fn: 8.0000 - val_precision: 0.9333 - val_recall: 0.9245 - val_auc: 0.9997 - val_prc: 0.9793\n",
      "Epoch 118/300\n",
      "55/55 [==============================] - 0s 2ms/step - loss: 0.0026 - tp: 411.0000 - fp: 6.0000 - tn: 27288.0000 - fn: 11.0000 - precision: 0.9856 - recall: 0.9739 - auc: 1.0000 - prc: 0.9969 - val_loss: 0.0039 - val_tp: 103.0000 - val_fp: 8.0000 - val_tn: 6816.0000 - val_fn: 3.0000 - val_precision: 0.9279 - val_recall: 0.9717 - val_auc: 0.9999 - val_prc: 0.9943\n",
      "Epoch 119/300\n",
      "55/55 [==============================] - 0s 3ms/step - loss: 0.0020 - tp: 413.0000 - fp: 5.0000 - tn: 27289.0000 - fn: 9.0000 - precision: 0.9880 - recall: 0.9787 - auc: 1.0000 - prc: 0.9984 - val_loss: 0.0070 - val_tp: 91.0000 - val_fp: 3.0000 - val_tn: 6821.0000 - val_fn: 15.0000 - val_precision: 0.9681 - val_recall: 0.8585 - val_auc: 0.9997 - val_prc: 0.9785\n",
      "Epoch 120/300\n",
      "55/55 [==============================] - 0s 4ms/step - loss: 0.0025 - tp: 410.0000 - fp: 7.0000 - tn: 27287.0000 - fn: 12.0000 - precision: 0.9832 - recall: 0.9716 - auc: 0.9999 - prc: 0.9967 - val_loss: 0.0079 - val_tp: 97.0000 - val_fp: 16.0000 - val_tn: 6808.0000 - val_fn: 9.0000 - val_precision: 0.8584 - val_recall: 0.9151 - val_auc: 0.9995 - val_prc: 0.9709\n",
      "Epoch 121/300\n",
      "55/55 [==============================] - 0s 3ms/step - loss: 0.0053 - tp: 390.0000 - fp: 25.0000 - tn: 27269.0000 - fn: 32.0000 - precision: 0.9398 - recall: 0.9242 - auc: 0.9985 - prc: 0.9817 - val_loss: 0.0513 - val_tp: 104.0000 - val_fp: 102.0000 - val_tn: 6722.0000 - val_fn: 2.0000 - val_precision: 0.5049 - val_recall: 0.9811 - val_auc: 0.9969 - val_prc: 0.7582\n",
      "Epoch 122/300\n",
      "55/55 [==============================] - 0s 2ms/step - loss: 0.0250 - tp: 331.0000 - fp: 103.0000 - tn: 27191.0000 - fn: 91.0000 - precision: 0.7627 - recall: 0.7844 - auc: 0.9760 - prc: 0.8006 - val_loss: 0.0100 - val_tp: 97.0000 - val_fp: 11.0000 - val_tn: 6813.0000 - val_fn: 9.0000 - val_precision: 0.8981 - val_recall: 0.9151 - val_auc: 0.9990 - val_prc: 0.9445\n",
      "Epoch 123/300\n",
      "55/55 [==============================] - 0s 2ms/step - loss: 0.0037 - tp: 399.0000 - fp: 14.0000 - tn: 27280.0000 - fn: 23.0000 - precision: 0.9661 - recall: 0.9455 - auc: 0.9999 - prc: 0.9941 - val_loss: 0.0059 - val_tp: 102.0000 - val_fp: 11.0000 - val_tn: 6813.0000 - val_fn: 4.0000 - val_precision: 0.9027 - val_recall: 0.9623 - val_auc: 0.9997 - val_prc: 0.9810\n",
      "Epoch 124/300\n",
      "55/55 [==============================] - 0s 2ms/step - loss: 0.0040 - tp: 401.0000 - fp: 13.0000 - tn: 27281.0000 - fn: 21.0000 - precision: 0.9686 - recall: 0.9502 - auc: 0.9999 - prc: 0.9914 - val_loss: 0.0051 - val_tp: 96.0000 - val_fp: 3.0000 - val_tn: 6821.0000 - val_fn: 10.0000 - val_precision: 0.9697 - val_recall: 0.9057 - val_auc: 0.9998 - val_prc: 0.9845\n",
      "Epoch 125/300\n",
      "55/55 [==============================] - 0s 2ms/step - loss: 0.0034 - tp: 404.0000 - fp: 11.0000 - tn: 27283.0000 - fn: 18.0000 - precision: 0.9735 - recall: 0.9573 - auc: 0.9999 - prc: 0.9911 - val_loss: 0.0101 - val_tp: 79.0000 - val_fp: 1.0000 - val_tn: 6823.0000 - val_fn: 27.0000 - val_precision: 0.9875 - val_recall: 0.7453 - val_auc: 0.9997 - val_prc: 0.9786\n",
      "Epoch 126/300\n",
      "55/55 [==============================] - 0s 3ms/step - loss: 0.0029 - tp: 405.0000 - fp: 11.0000 - tn: 27283.0000 - fn: 17.0000 - precision: 0.9736 - recall: 0.9597 - auc: 0.9999 - prc: 0.9957 - val_loss: 0.0048 - val_tp: 96.0000 - val_fp: 7.0000 - val_tn: 6817.0000 - val_fn: 10.0000 - val_precision: 0.9320 - val_recall: 0.9057 - val_auc: 0.9998 - val_prc: 0.9866\n",
      "Epoch 127/300\n",
      "55/55 [==============================] - 0s 2ms/step - loss: 0.0025 - tp: 410.0000 - fp: 7.0000 - tn: 27287.0000 - fn: 12.0000 - precision: 0.9832 - recall: 0.9716 - auc: 0.9988 - prc: 0.9950 - val_loss: 0.0040 - val_tp: 97.0000 - val_fp: 3.0000 - val_tn: 6821.0000 - val_fn: 9.0000 - val_precision: 0.9700 - val_recall: 0.9151 - val_auc: 0.9999 - val_prc: 0.9918\n",
      "Epoch 128/300\n",
      "55/55 [==============================] - 0s 3ms/step - loss: 0.0018 - tp: 416.0000 - fp: 7.0000 - tn: 27287.0000 - fn: 6.0000 - precision: 0.9835 - recall: 0.9858 - auc: 1.0000 - prc: 0.9989 - val_loss: 0.0030 - val_tp: 104.0000 - val_fp: 4.0000 - val_tn: 6820.0000 - val_fn: 2.0000 - val_precision: 0.9630 - val_recall: 0.9811 - val_auc: 1.0000 - val_prc: 0.9969\n",
      "Epoch 129/300\n",
      "55/55 [==============================] - 0s 4ms/step - loss: 0.0023 - tp: 413.0000 - fp: 9.0000 - tn: 27285.0000 - fn: 9.0000 - precision: 0.9787 - recall: 0.9787 - auc: 0.9999 - prc: 0.9967 - val_loss: 0.0040 - val_tp: 102.0000 - val_fp: 7.0000 - val_tn: 6817.0000 - val_fn: 4.0000 - val_precision: 0.9358 - val_recall: 0.9623 - val_auc: 0.9999 - val_prc: 0.9925\n",
      "Epoch 130/300\n",
      "55/55 [==============================] - 0s 2ms/step - loss: 0.0034 - tp: 401.0000 - fp: 12.0000 - tn: 27282.0000 - fn: 21.0000 - precision: 0.9709 - recall: 0.9502 - auc: 0.9987 - prc: 0.9924 - val_loss: 0.0046 - val_tp: 101.0000 - val_fp: 5.0000 - val_tn: 6819.0000 - val_fn: 5.0000 - val_precision: 0.9528 - val_recall: 0.9528 - val_auc: 0.9998 - val_prc: 0.9886\n",
      "Epoch 131/300\n",
      "55/55 [==============================] - 0s 2ms/step - loss: 0.0025 - tp: 410.0000 - fp: 10.0000 - tn: 27284.0000 - fn: 12.0000 - precision: 0.9762 - recall: 0.9716 - auc: 0.9999 - prc: 0.9967 - val_loss: 0.0040 - val_tp: 97.0000 - val_fp: 4.0000 - val_tn: 6820.0000 - val_fn: 9.0000 - val_precision: 0.9604 - val_recall: 0.9151 - val_auc: 0.9999 - val_prc: 0.9915\n"
     ]
    },
    {
     "name": "stdout",
     "output_type": "stream",
     "text": [
      "Epoch 132/300\n",
      "55/55 [==============================] - 0s 1ms/step - loss: 0.0016 - tp: 416.0000 - fp: 4.0000 - tn: 27290.0000 - fn: 6.0000 - precision: 0.9905 - recall: 0.9858 - auc: 1.0000 - prc: 0.9988 - val_loss: 0.0029 - val_tp: 103.0000 - val_fp: 2.0000 - val_tn: 6822.0000 - val_fn: 3.0000 - val_precision: 0.9810 - val_recall: 0.9717 - val_auc: 1.0000 - val_prc: 0.9969\n",
      "Epoch 133/300\n",
      "55/55 [==============================] - 0s 2ms/step - loss: 0.0023 - tp: 410.0000 - fp: 9.0000 - tn: 27285.0000 - fn: 12.0000 - precision: 0.9785 - recall: 0.9716 - auc: 0.9999 - prc: 0.9970 - val_loss: 0.0034 - val_tp: 103.0000 - val_fp: 4.0000 - val_tn: 6820.0000 - val_fn: 3.0000 - val_precision: 0.9626 - val_recall: 0.9717 - val_auc: 0.9999 - val_prc: 0.9937\n",
      "Epoch 134/300\n",
      "55/55 [==============================] - 0s 4ms/step - loss: 0.0022 - tp: 412.0000 - fp: 7.0000 - tn: 27287.0000 - fn: 10.0000 - precision: 0.9833 - recall: 0.9763 - auc: 1.0000 - prc: 0.9974 - val_loss: 0.0041 - val_tp: 103.0000 - val_fp: 6.0000 - val_tn: 6818.0000 - val_fn: 3.0000 - val_precision: 0.9450 - val_recall: 0.9717 - val_auc: 0.9999 - val_prc: 0.9907\n",
      "Epoch 135/300\n",
      "55/55 [==============================] - 0s 4ms/step - loss: 0.0032 - tp: 406.0000 - fp: 10.0000 - tn: 27284.0000 - fn: 16.0000 - precision: 0.9760 - recall: 0.9621 - auc: 0.9999 - prc: 0.9928 - val_loss: 0.0079 - val_tp: 106.0000 - val_fp: 22.0000 - val_tn: 6802.0000 - val_fn: 0.0000e+00 - val_precision: 0.8281 - val_recall: 1.0000 - val_auc: 1.0000 - val_prc: 0.9973\n",
      "Epoch 136/300\n",
      "55/55 [==============================] - 0s 3ms/step - loss: 0.0032 - tp: 403.0000 - fp: 13.0000 - tn: 27281.0000 - fn: 19.0000 - precision: 0.9688 - recall: 0.9550 - auc: 0.9987 - prc: 0.9930 - val_loss: 0.0033 - val_tp: 102.0000 - val_fp: 4.0000 - val_tn: 6820.0000 - val_fn: 4.0000 - val_precision: 0.9623 - val_recall: 0.9623 - val_auc: 0.9999 - val_prc: 0.9950\n",
      "Epoch 137/300\n",
      "55/55 [==============================] - 0s 3ms/step - loss: 0.0088 - tp: 376.0000 - fp: 37.0000 - tn: 27257.0000 - fn: 46.0000 - precision: 0.9104 - recall: 0.8910 - auc: 0.9923 - prc: 0.9577 - val_loss: 0.0062 - val_tp: 98.0000 - val_fp: 13.0000 - val_tn: 6811.0000 - val_fn: 8.0000 - val_precision: 0.8829 - val_recall: 0.9245 - val_auc: 0.9996 - val_prc: 0.9787\n",
      "Epoch 138/300\n",
      "55/55 [==============================] - 0s 2ms/step - loss: 0.0024 - tp: 408.0000 - fp: 6.0000 - tn: 27288.0000 - fn: 14.0000 - precision: 0.9855 - recall: 0.9668 - auc: 0.9999 - prc: 0.9970 - val_loss: 0.0050 - val_tp: 95.0000 - val_fp: 7.0000 - val_tn: 6817.0000 - val_fn: 11.0000 - val_precision: 0.9314 - val_recall: 0.8962 - val_auc: 0.9998 - val_prc: 0.9861\n",
      "Epoch 139/300\n",
      "55/55 [==============================] - 0s 3ms/step - loss: 0.0022 - tp: 412.0000 - fp: 6.0000 - tn: 27288.0000 - fn: 10.0000 - precision: 0.9856 - recall: 0.9763 - auc: 1.0000 - prc: 0.9974 - val_loss: 0.0032 - val_tp: 105.0000 - val_fp: 4.0000 - val_tn: 6820.0000 - val_fn: 1.0000 - val_precision: 0.9633 - val_recall: 0.9906 - val_auc: 0.9999 - val_prc: 0.9962\n",
      "Epoch 140/300\n",
      "55/55 [==============================] - 0s 4ms/step - loss: 0.0019 - tp: 415.0000 - fp: 8.0000 - tn: 27286.0000 - fn: 7.0000 - precision: 0.9811 - recall: 0.9834 - auc: 1.0000 - prc: 0.9984 - val_loss: 0.0070 - val_tp: 83.0000 - val_fp: 2.0000 - val_tn: 6822.0000 - val_fn: 23.0000 - val_precision: 0.9765 - val_recall: 0.7830 - val_auc: 0.9998 - val_prc: 0.9883\n",
      "Epoch 141/300\n",
      "55/55 [==============================] - 0s 4ms/step - loss: 0.0019 - tp: 411.0000 - fp: 5.0000 - tn: 27289.0000 - fn: 11.0000 - precision: 0.9880 - recall: 0.9739 - auc: 1.0000 - prc: 0.9978 - val_loss: 0.0038 - val_tp: 106.0000 - val_fp: 12.0000 - val_tn: 6812.0000 - val_fn: 0.0000e+00 - val_precision: 0.8983 - val_recall: 1.0000 - val_auc: 1.0000 - val_prc: 0.9980\n",
      "Epoch 142/300\n",
      "55/55 [==============================] - 0s 3ms/step - loss: 0.0034 - tp: 404.0000 - fp: 18.0000 - tn: 27276.0000 - fn: 18.0000 - precision: 0.9573 - recall: 0.9573 - auc: 0.9963 - prc: 0.9883 - val_loss: 0.0168 - val_tp: 80.0000 - val_fp: 14.0000 - val_tn: 6810.0000 - val_fn: 26.0000 - val_precision: 0.8511 - val_recall: 0.7547 - val_auc: 0.9891 - val_prc: 0.8776\n",
      "Epoch 143/300\n",
      "55/55 [==============================] - 0s 3ms/step - loss: 0.0034 - tp: 405.0000 - fp: 16.0000 - tn: 27278.0000 - fn: 17.0000 - precision: 0.9620 - recall: 0.9597 - auc: 0.9999 - prc: 0.9930 - val_loss: 0.0056 - val_tp: 95.0000 - val_fp: 6.0000 - val_tn: 6818.0000 - val_fn: 11.0000 - val_precision: 0.9406 - val_recall: 0.8962 - val_auc: 0.9997 - val_prc: 0.9802\n",
      "Epoch 144/300\n",
      "55/55 [==============================] - 0s 3ms/step - loss: 0.0019 - tp: 414.0000 - fp: 8.0000 - tn: 27286.0000 - fn: 8.0000 - precision: 0.9810 - recall: 0.9810 - auc: 1.0000 - prc: 0.9983 - val_loss: 0.0062 - val_tp: 86.0000 - val_fp: 0.0000e+00 - val_tn: 6824.0000 - val_fn: 20.0000 - val_precision: 1.0000 - val_recall: 0.8113 - val_auc: 0.9999 - val_prc: 0.9954\n",
      "Epoch 145/300\n",
      "55/55 [==============================] - 0s 2ms/step - loss: 0.0014 - tp: 415.0000 - fp: 4.0000 - tn: 27290.0000 - fn: 7.0000 - precision: 0.9905 - recall: 0.9834 - auc: 1.0000 - prc: 0.9991 - val_loss: 0.0050 - val_tp: 91.0000 - val_fp: 1.0000 - val_tn: 6823.0000 - val_fn: 15.0000 - val_precision: 0.9891 - val_recall: 0.8585 - val_auc: 0.9999 - val_prc: 0.9929\n",
      "Epoch 146/300\n",
      "55/55 [==============================] - 0s 2ms/step - loss: 0.0050 - tp: 394.0000 - fp: 20.0000 - tn: 27274.0000 - fn: 28.0000 - precision: 0.9517 - recall: 0.9336 - auc: 0.9986 - prc: 0.9844 - val_loss: 0.0070 - val_tp: 106.0000 - val_fp: 17.0000 - val_tn: 6807.0000 - val_fn: 0.0000e+00 - val_precision: 0.8618 - val_recall: 1.0000 - val_auc: 0.9998 - val_prc: 0.9904\n",
      "Epoch 147/300\n",
      "55/55 [==============================] - 0s 4ms/step - loss: 0.0104 - tp: 374.0000 - fp: 46.0000 - tn: 27248.0000 - fn: 48.0000 - precision: 0.8905 - recall: 0.8863 - auc: 0.9921 - prc: 0.9427 - val_loss: 0.0080 - val_tp: 98.0000 - val_fp: 12.0000 - val_tn: 6812.0000 - val_fn: 8.0000 - val_precision: 0.8909 - val_recall: 0.9245 - val_auc: 0.9994 - val_prc: 0.9649\n",
      "Epoch 148/300\n",
      "55/55 [==============================] - 0s 3ms/step - loss: 0.0072 - tp: 385.0000 - fp: 41.0000 - tn: 27253.0000 - fn: 37.0000 - precision: 0.9038 - recall: 0.9123 - auc: 0.9960 - prc: 0.9713 - val_loss: 0.0151 - val_tp: 72.0000 - val_fp: 3.0000 - val_tn: 6821.0000 - val_fn: 34.0000 - val_precision: 0.9600 - val_recall: 0.6792 - val_auc: 0.9848 - val_prc: 0.9205\n",
      "Epoch 149/300\n",
      "55/55 [==============================] - 0s 2ms/step - loss: 0.0059 - tp: 385.0000 - fp: 25.0000 - tn: 27269.0000 - fn: 37.0000 - precision: 0.9390 - recall: 0.9123 - auc: 0.9996 - prc: 0.9738 - val_loss: 0.0071 - val_tp: 88.0000 - val_fp: 5.0000 - val_tn: 6819.0000 - val_fn: 18.0000 - val_precision: 0.9462 - val_recall: 0.8302 - val_auc: 0.9997 - val_prc: 0.9813\n",
      "Epoch 150/300\n",
      "55/55 [==============================] - 0s 2ms/step - loss: 0.0165 - tp: 343.0000 - fp: 63.0000 - tn: 27231.0000 - fn: 79.0000 - precision: 0.8448 - recall: 0.8128 - auc: 0.9783 - prc: 0.8973 - val_loss: 0.0053 - val_tp: 92.0000 - val_fp: 1.0000 - val_tn: 6823.0000 - val_fn: 14.0000 - val_precision: 0.9892 - val_recall: 0.8679 - val_auc: 0.9999 - val_prc: 0.9903\n",
      "Epoch 151/300\n",
      "55/55 [==============================] - 0s 3ms/step - loss: 0.0033 - tp: 404.0000 - fp: 9.0000 - tn: 27285.0000 - fn: 18.0000 - precision: 0.9782 - recall: 0.9573 - auc: 0.9999 - prc: 0.9944 - val_loss: 0.0071 - val_tp: 89.0000 - val_fp: 1.0000 - val_tn: 6823.0000 - val_fn: 17.0000 - val_precision: 0.9889 - val_recall: 0.8396 - val_auc: 0.9997 - val_prc: 0.9802\n",
      "Epoch 152/300\n",
      "55/55 [==============================] - 0s 3ms/step - loss: 0.0020 - tp: 412.0000 - fp: 5.0000 - tn: 27289.0000 - fn: 10.0000 - precision: 0.9880 - recall: 0.9763 - auc: 1.0000 - prc: 0.9988 - val_loss: 0.0045 - val_tp: 97.0000 - val_fp: 2.0000 - val_tn: 6822.0000 - val_fn: 9.0000 - val_precision: 0.9798 - val_recall: 0.9151 - val_auc: 0.9999 - val_prc: 0.9912\n",
      "Epoch 153/300\n",
      "55/55 [==============================] - 0s 3ms/step - loss: 0.0020 - tp: 415.0000 - fp: 6.0000 - tn: 27288.0000 - fn: 7.0000 - precision: 0.9857 - recall: 0.9834 - auc: 1.0000 - prc: 0.9985 - val_loss: 0.0058 - val_tp: 90.0000 - val_fp: 3.0000 - val_tn: 6821.0000 - val_fn: 16.0000 - val_precision: 0.9677 - val_recall: 0.8491 - val_auc: 0.9998 - val_prc: 0.9852\n"
     ]
    },
    {
     "name": "stdout",
     "output_type": "stream",
     "text": [
      "Epoch 154/300\n",
      "55/55 [==============================] - 0s 4ms/step - loss: 0.0020 - tp: 412.0000 - fp: 7.0000 - tn: 27287.0000 - fn: 10.0000 - precision: 0.9833 - recall: 0.9763 - auc: 1.0000 - prc: 0.9982 - val_loss: 0.0035 - val_tp: 105.0000 - val_fp: 4.0000 - val_tn: 6820.0000 - val_fn: 1.0000 - val_precision: 0.9633 - val_recall: 0.9906 - val_auc: 0.9999 - val_prc: 0.9964\n",
      "Epoch 155/300\n",
      "55/55 [==============================] - 0s 2ms/step - loss: 0.0015 - tp: 415.0000 - fp: 4.0000 - tn: 27290.0000 - fn: 7.0000 - precision: 0.9905 - recall: 0.9834 - auc: 1.0000 - prc: 0.9991 - val_loss: 0.0040 - val_tp: 95.0000 - val_fp: 1.0000 - val_tn: 6823.0000 - val_fn: 11.0000 - val_precision: 0.9896 - val_recall: 0.8962 - val_auc: 0.9999 - val_prc: 0.9941\n",
      "Epoch 156/300\n",
      "55/55 [==============================] - 0s 2ms/step - loss: 0.0013 - tp: 417.0000 - fp: 2.0000 - tn: 27292.0000 - fn: 5.0000 - precision: 0.9952 - recall: 0.9882 - auc: 1.0000 - prc: 0.9993 - val_loss: 0.0027 - val_tp: 98.0000 - val_fp: 1.0000 - val_tn: 6823.0000 - val_fn: 8.0000 - val_precision: 0.9899 - val_recall: 0.9245 - val_auc: 1.0000 - val_prc: 0.9980\n",
      "Epoch 157/300\n",
      "55/55 [==============================] - 0s 2ms/step - loss: 0.0017 - tp: 412.0000 - fp: 4.0000 - tn: 27290.0000 - fn: 10.0000 - precision: 0.9904 - recall: 0.9763 - auc: 1.0000 - prc: 0.9987 - val_loss: 0.0033 - val_tp: 104.0000 - val_fp: 5.0000 - val_tn: 6819.0000 - val_fn: 2.0000 - val_precision: 0.9541 - val_recall: 0.9811 - val_auc: 0.9999 - val_prc: 0.9942\n",
      "Epoch 158/300\n",
      "55/55 [==============================] - 0s 2ms/step - loss: 0.0015 - tp: 418.0000 - fp: 2.0000 - tn: 27292.0000 - fn: 4.0000 - precision: 0.9952 - recall: 0.9905 - auc: 1.0000 - prc: 0.9990 - val_loss: 0.0049 - val_tp: 106.0000 - val_fp: 15.0000 - val_tn: 6809.0000 - val_fn: 0.0000e+00 - val_precision: 0.8760 - val_recall: 1.0000 - val_auc: 0.9999 - val_prc: 0.9940\n",
      "Epoch 159/300\n",
      "55/55 [==============================] - 0s 2ms/step - loss: 0.0018 - tp: 413.0000 - fp: 8.0000 - tn: 27286.0000 - fn: 9.0000 - precision: 0.9810 - recall: 0.9787 - auc: 1.0000 - prc: 0.9976 - val_loss: 0.0030 - val_tp: 103.0000 - val_fp: 4.0000 - val_tn: 6820.0000 - val_fn: 3.0000 - val_precision: 0.9626 - val_recall: 0.9717 - val_auc: 0.9999 - val_prc: 0.9952\n",
      "Epoch 160/300\n",
      "55/55 [==============================] - 0s 2ms/step - loss: 0.0011 - tp: 417.0000 - fp: 2.0000 - tn: 27292.0000 - fn: 5.0000 - precision: 0.9952 - recall: 0.9882 - auc: 1.0000 - prc: 0.9997 - val_loss: 0.0036 - val_tp: 100.0000 - val_fp: 3.0000 - val_tn: 6821.0000 - val_fn: 6.0000 - val_precision: 0.9709 - val_recall: 0.9434 - val_auc: 0.9999 - val_prc: 0.9926\n",
      "Epoch 161/300\n",
      "55/55 [==============================] - 0s 3ms/step - loss: 0.0053 - tp: 397.0000 - fp: 21.0000 - tn: 27273.0000 - fn: 25.0000 - precision: 0.9498 - recall: 0.9408 - auc: 0.9962 - prc: 0.9812 - val_loss: 0.0154 - val_tp: 99.0000 - val_fp: 30.0000 - val_tn: 6794.0000 - val_fn: 7.0000 - val_precision: 0.7674 - val_recall: 0.9340 - val_auc: 0.9987 - val_prc: 0.9153\n",
      "Epoch 162/300\n",
      "55/55 [==============================] - 0s 3ms/step - loss: 0.0036 - tp: 402.0000 - fp: 18.0000 - tn: 27276.0000 - fn: 20.0000 - precision: 0.9571 - recall: 0.9526 - auc: 0.9999 - prc: 0.9891 - val_loss: 0.0024 - val_tp: 103.0000 - val_fp: 2.0000 - val_tn: 6822.0000 - val_fn: 3.0000 - val_precision: 0.9810 - val_recall: 0.9717 - val_auc: 1.0000 - val_prc: 0.9975\n",
      "Epoch 163/300\n",
      "55/55 [==============================] - 0s 2ms/step - loss: 0.0016 - tp: 411.0000 - fp: 6.0000 - tn: 27288.0000 - fn: 11.0000 - precision: 0.9856 - recall: 0.9739 - auc: 1.0000 - prc: 0.9990 - val_loss: 0.0033 - val_tp: 102.0000 - val_fp: 4.0000 - val_tn: 6820.0000 - val_fn: 4.0000 - val_precision: 0.9623 - val_recall: 0.9623 - val_auc: 0.9999 - val_prc: 0.9934\n",
      "Epoch 164/300\n",
      "55/55 [==============================] - 0s 2ms/step - loss: 0.0019 - tp: 415.0000 - fp: 5.0000 - tn: 27289.0000 - fn: 7.0000 - precision: 0.9881 - recall: 0.9834 - auc: 1.0000 - prc: 0.9980 - val_loss: 0.0044 - val_tp: 96.0000 - val_fp: 3.0000 - val_tn: 6821.0000 - val_fn: 10.0000 - val_precision: 0.9697 - val_recall: 0.9057 - val_auc: 0.9999 - val_prc: 0.9919\n",
      "Epoch 165/300\n",
      "55/55 [==============================] - 0s 2ms/step - loss: 0.0036 - tp: 404.0000 - fp: 13.0000 - tn: 27281.0000 - fn: 18.0000 - precision: 0.9688 - recall: 0.9573 - auc: 0.9987 - prc: 0.9913 - val_loss: 0.0072 - val_tp: 89.0000 - val_fp: 1.0000 - val_tn: 6823.0000 - val_fn: 17.0000 - val_precision: 0.9889 - val_recall: 0.8396 - val_auc: 0.9950 - val_prc: 0.9758\n",
      "Epoch 166/300\n",
      "55/55 [==============================] - 0s 2ms/step - loss: 0.0013 - tp: 418.0000 - fp: 4.0000 - tn: 27290.0000 - fn: 4.0000 - precision: 0.9905 - recall: 0.9905 - auc: 1.0000 - prc: 0.9993 - val_loss: 0.0072 - val_tp: 90.0000 - val_fp: 2.0000 - val_tn: 6822.0000 - val_fn: 16.0000 - val_precision: 0.9783 - val_recall: 0.8491 - val_auc: 0.9950 - val_prc: 0.9759\n",
      "Epoch 167/300\n",
      "55/55 [==============================] - 0s 2ms/step - loss: 0.0023 - tp: 409.0000 - fp: 6.0000 - tn: 27288.0000 - fn: 13.0000 - precision: 0.9855 - recall: 0.9692 - auc: 0.9999 - prc: 0.9967 - val_loss: 0.0105 - val_tp: 82.0000 - val_fp: 2.0000 - val_tn: 6822.0000 - val_fn: 24.0000 - val_precision: 0.9762 - val_recall: 0.7736 - val_auc: 0.9947 - val_prc: 0.9633\n",
      "Epoch 168/300\n",
      "55/55 [==============================] - 0s 2ms/step - loss: 0.0022 - tp: 407.0000 - fp: 9.0000 - tn: 27285.0000 - fn: 15.0000 - precision: 0.9784 - recall: 0.9645 - auc: 0.9999 - prc: 0.9969 - val_loss: 0.0036 - val_tp: 99.0000 - val_fp: 2.0000 - val_tn: 6822.0000 - val_fn: 7.0000 - val_precision: 0.9802 - val_recall: 0.9340 - val_auc: 0.9999 - val_prc: 0.9947\n",
      "Epoch 169/300\n",
      "55/55 [==============================] - 0s 3ms/step - loss: 7.8729e-04 - tp: 418.0000 - fp: 0.0000e+00 - tn: 27294.0000 - fn: 4.0000 - precision: 1.0000 - recall: 0.9905 - auc: 1.0000 - prc: 0.9999 - val_loss: 0.0037 - val_tp: 99.0000 - val_fp: 3.0000 - val_tn: 6821.0000 - val_fn: 7.0000 - val_precision: 0.9706 - val_recall: 0.9340 - val_auc: 0.9999 - val_prc: 0.9924\n",
      "Epoch 170/300\n",
      "55/55 [==============================] - 0s 3ms/step - loss: 0.0010 - tp: 419.0000 - fp: 3.0000 - tn: 27291.0000 - fn: 3.0000 - precision: 0.9929 - recall: 0.9929 - auc: 1.0000 - prc: 0.9996 - val_loss: 0.0024 - val_tp: 99.0000 - val_fp: 1.0000 - val_tn: 6823.0000 - val_fn: 7.0000 - val_precision: 0.9900 - val_recall: 0.9340 - val_auc: 1.0000 - val_prc: 0.9978\n",
      "Epoch 171/300\n",
      "55/55 [==============================] - 0s 3ms/step - loss: 7.0840e-04 - tp: 419.0000 - fp: 1.0000 - tn: 27293.0000 - fn: 3.0000 - precision: 0.9976 - recall: 0.9929 - auc: 1.0000 - prc: 0.9999 - val_loss: 0.0026 - val_tp: 101.0000 - val_fp: 3.0000 - val_tn: 6821.0000 - val_fn: 5.0000 - val_precision: 0.9712 - val_recall: 0.9528 - val_auc: 0.9999 - val_prc: 0.9966\n",
      "Epoch 172/300\n",
      "55/55 [==============================] - 0s 2ms/step - loss: 0.0056 - tp: 396.0000 - fp: 22.0000 - tn: 27272.0000 - fn: 26.0000 - precision: 0.9474 - recall: 0.9384 - auc: 0.9915 - prc: 0.9754 - val_loss: 0.0252 - val_tp: 91.0000 - val_fp: 38.0000 - val_tn: 6786.0000 - val_fn: 15.0000 - val_precision: 0.7054 - val_recall: 0.8585 - val_auc: 0.9973 - val_prc: 0.8391\n",
      "Epoch 173/300\n",
      "55/55 [==============================] - 0s 2ms/step - loss: 0.0144 - tp: 361.0000 - fp: 55.0000 - tn: 27239.0000 - fn: 61.0000 - precision: 0.8678 - recall: 0.8555 - auc: 0.9893 - prc: 0.9048 - val_loss: 0.0076 - val_tp: 83.0000 - val_fp: 2.0000 - val_tn: 6822.0000 - val_fn: 23.0000 - val_precision: 0.9765 - val_recall: 0.7830 - val_auc: 0.9997 - val_prc: 0.9806\n",
      "Epoch 174/300\n",
      "55/55 [==============================] - 0s 4ms/step - loss: 0.0037 - tp: 405.0000 - fp: 13.0000 - tn: 27281.0000 - fn: 17.0000 - precision: 0.9689 - recall: 0.9597 - auc: 0.9998 - prc: 0.9918 - val_loss: 0.0063 - val_tp: 92.0000 - val_fp: 6.0000 - val_tn: 6818.0000 - val_fn: 14.0000 - val_precision: 0.9388 - val_recall: 0.8679 - val_auc: 0.9996 - val_prc: 0.9762\n",
      "Epoch 175/300\n",
      "55/55 [==============================] - 0s 3ms/step - loss: 0.0048 - tp: 394.0000 - fp: 17.0000 - tn: 27277.0000 - fn: 28.0000 - precision: 0.9586 - recall: 0.9336 - auc: 0.9986 - prc: 0.9823 - val_loss: 0.0059 - val_tp: 103.0000 - val_fp: 10.0000 - val_tn: 6814.0000 - val_fn: 3.0000 - val_precision: 0.9115 - val_recall: 0.9717 - val_auc: 0.9997 - val_prc: 0.9720\n"
     ]
    },
    {
     "name": "stdout",
     "output_type": "stream",
     "text": [
      "Epoch 176/300\n",
      "48/55 [=========================>....] - ETA: 0s - loss: 0.0064 - tp: 342.0000 - fp: 30.0000 - tn: 24172.0000 - fn: 32.0000 - precision: 0.9194 - recall: 0.9144 - auc: 0.9996 - prc: 0.9736Restoring model weights from the end of the best epoch: 156.\n",
      "55/55 [==============================] - 0s 3ms/step - loss: 0.0064 - tp: 386.0000 - fp: 33.0000 - tn: 27261.0000 - fn: 36.0000 - precision: 0.9212 - recall: 0.9147 - auc: 0.9984 - prc: 0.9731 - val_loss: 0.0069 - val_tp: 93.0000 - val_fp: 2.0000 - val_tn: 6822.0000 - val_fn: 13.0000 - val_precision: 0.9789 - val_recall: 0.8774 - val_auc: 0.9950 - val_prc: 0.9734\n",
      "Epoch 176: early stopping\n"
     ]
    }
   ],
   "source": [
    "EPOCHS=300 #200\n",
    "BATCH_SIZE=512# 1024\n",
    "model_history = model.fit(X_train, y_train,\n",
    "                          validation_data = (X_test, y_test),\n",
    "                          epochs=EPOCHS,\n",
    "                          batch_size=BATCH_SIZE,\n",
    "                          verbose=1,\n",
    "                          callbacks=[early_stopping],\n",
    "                          shuffle=True) "
   ]
  },
  {
   "cell_type": "code",
   "execution_count": 81,
   "id": "02d52eee",
   "metadata": {},
   "outputs": [
    {
     "data": {
      "image/png": "[encoded data removed]",
      "text/plain": [
       "<Figure size 640x480 with 1 Axes>"
      ]
     },
     "metadata": {},
     "output_type": "display_data"
    }
   ],
   "source": [
    "# plot training history\n",
    "plt.plot(model_history.history['loss'], label='train')\n",
    "plt.plot(model_history.history['val_loss'], label='test')\n",
    "plt.legend()\n",
    "plt.grid()\n",
    "plt.show()"
   ]
  },
  {
   "cell_type": "code",
   "execution_count": 82,
   "id": "e1b84cc9",
   "metadata": {
    "scrolled": true
   },
   "outputs": [
    {
     "data": {
      "image/png": "[encoded data removed]",
      "text/plain": [
       "<Figure size 640x480 with 1 Axes>"
      ]
     },
     "metadata": {},
     "output_type": "display_data"
    }
   ],
   "source": [
    "# plot training history\n",
    "plt.plot(model_history.history['prc'], label='train')\n",
    "plt.plot(model_history.history['val_prc'], label='test')\n",
    "plt.legend()\n",
    "plt.grid()\n",
    "plt.show()"
   ]
  },
  {
   "cell_type": "code",
   "execution_count": 83,
   "id": "e65377c5",
   "metadata": {},
   "outputs": [
    {
     "data": {
      "image/png": "[encoded data removed]",
      "text/plain": [
       "<Figure size 640x480 with 1 Axes>"
      ]
     },
     "metadata": {},
     "output_type": "display_data"
    }
   ],
   "source": [
    "# plot training history\n",
    "plt.plot(model_history.history['tp'], label='train')\n",
    "plt.plot(model_history.history['val_tp'], label='test')\n",
    "plt.legend()\n",
    "plt.grid()\n",
    "plt.show()"
   ]
  },
  {
   "cell_type": "code",
   "execution_count": 84,
   "id": "36ad3f42",
   "metadata": {},
   "outputs": [
    {
     "name": "stdout",
     "output_type": "stream",
     "text": [
      "217/217 [==============================] - 0s 665us/step\n"
     ]
    }
   ],
   "source": [
    "y_test_pred = model.predict(X_test)"
   ]
  },
  {
   "cell_type": "code",
   "execution_count": 85,
   "id": "66e7c965",
   "metadata": {},
   "outputs": [
    {
     "name": "stdout",
     "output_type": "stream",
     "text": [
      "Perfect confusion matrix\n",
      "[[6824    0]\n",
      " [   0  106]]\n"
     ]
    }
   ],
   "source": [
    "print(\"Perfect confusion matrix\")\n",
    "print(confusion_matrix(y_test, y_test > 0.5))"
   ]
  },
  {
   "cell_type": "code",
   "execution_count": 86,
   "id": "7d60d080",
   "metadata": {},
   "outputs": [
    {
     "name": "stdout",
     "output_type": "stream",
     "text": [
      "AUPRC 0.9980672174187606\n",
      "AUROC 0.9999709681700546\n",
      "\n",
      "[[6823    1]\n",
      " [   8   98]]\n"
     ]
    }
   ],
   "source": [
    "print('AUPRC',average_precision_score(y_test, y_test_pred))\n",
    "print('AUROC',roc_auc_score(y_test, y_test_pred))\n",
    "\n",
    "print()\n",
    "print(confusion_matrix(y_test, y_test_pred > 0.5))"
   ]
  },
  {
   "cell_type": "code",
   "execution_count": 87,
   "id": "dc1d2f0a",
   "metadata": {
    "scrolled": false
   },
   "outputs": [
    {
     "name": "stdout",
     "output_type": "stream",
     "text": [
      "              precision    recall  f1-score   support\n",
      "\n",
      "         0.0       1.00      1.00      1.00      6824\n",
      "         1.0       0.99      0.92      0.96       106\n",
      "\n",
      "    accuracy                           1.00      6930\n",
      "   macro avg       0.99      0.96      0.98      6930\n",
      "weighted avg       1.00      1.00      1.00      6930\n",
      "\n"
     ]
    }
   ],
   "source": [
    "print(classification_report(y_test, y_test_pred > 0.5))"
   ]
  },
  {
   "cell_type": "code",
   "execution_count": 36,
   "id": "616cdcc2",
   "metadata": {},
   "outputs": [
    {
     "data": {
      "image/png": "[encoded data removed]",
      "text/plain": [
       "<Figure size 640x480 with 1 Axes>"
      ]
     },
     "metadata": {},
     "output_type": "display_data"
    }
   ],
   "source": [
    "plot_precision_recall_vs_threshold(y_test, y_test_pred)"
   ]
  },
  {
   "cell_type": "code",
   "execution_count": 37,
   "id": "c1bf04bb",
   "metadata": {},
   "outputs": [
    {
     "data": {
      "image/png": "[encoded data removed]",
      "text/plain": [
       "<Figure size 640x480 with 1 Axes>"
      ]
     },
     "metadata": {},
     "output_type": "display_data"
    },
    {
     "data": {
      "image/png": "[encoded data removed]",
      "text/plain": [
       "<Figure size 640x480 with 1 Axes>"
      ]
     },
     "metadata": {},
     "output_type": "display_data"
    }
   ],
   "source": [
    "plot_prc_and_roc(y_test, y_test_pred)"
   ]
  },
  {
   "cell_type": "code",
   "execution_count": 38,
   "id": "f3074858",
   "metadata": {
    "scrolled": true
   },
   "outputs": [
    {
     "name": "stdout",
     "output_type": "stream",
     "text": [
      "931/931 [==============================] - 0s 320us/step\n",
      "threshold: 0.1\n",
      "[[29442    36]\n",
      " [   19   270]]\n",
      "              precision    recall  f1-score   support\n",
      "\n",
      "         0.0       1.00      1.00      1.00     29478\n",
      "         1.0       0.88      0.93      0.91       289\n",
      "\n",
      "    accuracy                           1.00     29767\n",
      "   macro avg       0.94      0.97      0.95     29767\n",
      "weighted avg       1.00      1.00      1.00     29767\n",
      "\n",
      "--------------------------------------\n",
      "931/931 [==============================] - 0s 382us/step\n",
      "threshold: 0.2\n",
      "[[29447    31]\n",
      " [   21   268]]\n",
      "              precision    recall  f1-score   support\n",
      "\n",
      "         0.0       1.00      1.00      1.00     29478\n",
      "         1.0       0.90      0.93      0.91       289\n",
      "\n",
      "    accuracy                           1.00     29767\n",
      "   macro avg       0.95      0.96      0.96     29767\n",
      "weighted avg       1.00      1.00      1.00     29767\n",
      "\n",
      "--------------------------------------\n",
      "931/931 [==============================] - 0s 285us/step\n",
      "threshold: 0.3\n",
      "[[29451    27]\n",
      " [   22   267]]\n",
      "              precision    recall  f1-score   support\n",
      "\n",
      "         0.0       1.00      1.00      1.00     29478\n",
      "         1.0       0.91      0.92      0.92       289\n",
      "\n",
      "    accuracy                           1.00     29767\n",
      "   macro avg       0.95      0.96      0.96     29767\n",
      "weighted avg       1.00      1.00      1.00     29767\n",
      "\n",
      "--------------------------------------\n",
      "931/931 [==============================] - 0s 286us/step\n",
      "threshold: 0.4\n",
      "[[29454    24]\n",
      " [   22   267]]\n",
      "              precision    recall  f1-score   support\n",
      "\n",
      "         0.0       1.00      1.00      1.00     29478\n",
      "         1.0       0.92      0.92      0.92       289\n",
      "\n",
      "    accuracy                           1.00     29767\n",
      "   macro avg       0.96      0.96      0.96     29767\n",
      "weighted avg       1.00      1.00      1.00     29767\n",
      "\n",
      "--------------------------------------\n",
      "931/931 [==============================] - 0s 259us/step\n",
      "threshold: 0.5\n",
      "[[29456    22]\n",
      " [   23   266]]\n",
      "              precision    recall  f1-score   support\n",
      "\n",
      "         0.0       1.00      1.00      1.00     29478\n",
      "         1.0       0.92      0.92      0.92       289\n",
      "\n",
      "    accuracy                           1.00     29767\n",
      "   macro avg       0.96      0.96      0.96     29767\n",
      "weighted avg       1.00      1.00      1.00     29767\n",
      "\n",
      "--------------------------------------\n",
      "931/931 [==============================] - 0s 282us/step\n",
      "threshold: 0.6\n",
      "[[29461    17]\n",
      " [   24   265]]\n",
      "              precision    recall  f1-score   support\n",
      "\n",
      "         0.0       1.00      1.00      1.00     29478\n",
      "         1.0       0.94      0.92      0.93       289\n",
      "\n",
      "    accuracy                           1.00     29767\n",
      "   macro avg       0.97      0.96      0.96     29767\n",
      "weighted avg       1.00      1.00      1.00     29767\n",
      "\n",
      "--------------------------------------\n",
      "931/931 [==============================] - 0s 304us/step\n",
      "threshold: 0.7\n",
      "[[29462    16]\n",
      " [   24   265]]\n",
      "              precision    recall  f1-score   support\n",
      "\n",
      "         0.0       1.00      1.00      1.00     29478\n",
      "         1.0       0.94      0.92      0.93       289\n",
      "\n",
      "    accuracy                           1.00     29767\n",
      "   macro avg       0.97      0.96      0.96     29767\n",
      "weighted avg       1.00      1.00      1.00     29767\n",
      "\n",
      "--------------------------------------\n",
      "931/931 [==============================] - 0s 298us/step\n",
      "threshold: 0.8\n",
      "[[29467    11]\n",
      " [   25   264]]\n",
      "              precision    recall  f1-score   support\n",
      "\n",
      "         0.0       1.00      1.00      1.00     29478\n",
      "         1.0       0.96      0.91      0.94       289\n",
      "\n",
      "    accuracy                           1.00     29767\n",
      "   macro avg       0.98      0.96      0.97     29767\n",
      "weighted avg       1.00      1.00      1.00     29767\n",
      "\n",
      "--------------------------------------\n",
      "931/931 [==============================] - 0s 264us/step\n",
      "threshold: 0.9\n",
      "[[29468    10]\n",
      " [   31   258]]\n",
      "              precision    recall  f1-score   support\n",
      "\n",
      "         0.0       1.00      1.00      1.00     29478\n",
      "         1.0       0.96      0.89      0.93       289\n",
      "\n",
      "    accuracy                           1.00     29767\n",
      "   macro avg       0.98      0.95      0.96     29767\n",
      "weighted avg       1.00      1.00      1.00     29767\n",
      "\n",
      "--------------------------------------\n"
     ]
    }
   ],
   "source": [
    "get_scores_thresholds(X_test, y_test, model, algo=\"DNN\")\n"
   ]
  },
  {
   "cell_type": "code",
   "execution_count": 39,
   "id": "1f475642",
   "metadata": {},
   "outputs": [],
   "source": [
    "# model.save('robot_2')"
   ]
  },
  {
   "cell_type": "markdown",
   "id": "6690cda2",
   "metadata": {},
   "source": [
    "### Re-fit on whole data!"
   ]
  },
  {
   "cell_type": "code",
   "execution_count": 40,
   "id": "a6fe022e",
   "metadata": {},
   "outputs": [
    {
     "name": "stdout",
     "output_type": "stream",
     "text": [
      "Input shape 500\n"
     ]
    }
   ],
   "source": [
    "n_inputs = X.shape[1]  # (77862, 3)\n",
    "print('Input shape',n_inputs)\n",
    "model = make_model(n_inputs, metrics=METRICS)"
   ]
  },
  {
   "cell_type": "code",
   "execution_count": 41,
   "id": "0dcd9a83",
   "metadata": {
    "scrolled": true
   },
   "outputs": [
    {
     "name": "stdout",
     "output_type": "stream",
     "text": [
      "Epoch 1/50\n",
      "291/291 [==============================] - 1s 2ms/step - loss: 0.0831 - tp: 769.0000 - fp: 2076.0000 - tn: 174789.0000 - fn: 964.0000 - precision: 0.2703 - recall: 0.4437 - auc: 0.8201 - prc: 0.3484\n",
      "Epoch 2/50\n",
      "291/291 [==============================] - 0s 1ms/step - loss: 0.0295 - tp: 764.0000 - fp: 106.0000 - tn: 147281.0000 - fn: 680.0000 - precision: 0.8782 - recall: 0.5291 - auc: 0.9272 - prc: 0.6187\n",
      "Epoch 3/50\n",
      "291/291 [==============================] - 0s 2ms/step - loss: 0.0172 - tp: 1020.0000 - fp: 137.0000 - tn: 147250.0000 - fn: 424.0000 - precision: 0.8816 - recall: 0.7064 - auc: 0.9617 - prc: 0.7867\n",
      "Epoch 4/50\n",
      "291/291 [==============================] - 0s 2ms/step - loss: 0.0109 - tp: 1180.0000 - fp: 118.0000 - tn: 147269.0000 - fn: 264.0000 - precision: 0.9091 - recall: 0.8172 - auc: 0.9793 - prc: 0.8719\n",
      "Epoch 5/50\n",
      "291/291 [==============================] - 1s 2ms/step - loss: 0.0097 - tp: 1212.0000 - fp: 121.0000 - tn: 147266.0000 - fn: 232.0000 - precision: 0.9092 - recall: 0.8393 - auc: 0.9870 - prc: 0.8870\n",
      "Epoch 6/50\n",
      "291/291 [==============================] - 1s 2ms/step - loss: 0.0083 - tp: 1239.0000 - fp: 131.0000 - tn: 147256.0000 - fn: 205.0000 - precision: 0.9044 - recall: 0.8580 - auc: 0.9917 - prc: 0.8979\n",
      "Epoch 7/50\n",
      "291/291 [==============================] - 0s 1ms/step - loss: 0.0060 - tp: 1275.0000 - fp: 105.0000 - tn: 147282.0000 - fn: 169.0000 - precision: 0.9239 - recall: 0.8830 - auc: 0.9977 - prc: 0.9403\n",
      "Epoch 8/50\n",
      "291/291 [==============================] - 0s 1ms/step - loss: 0.0059 - tp: 1283.0000 - fp: 116.0000 - tn: 147271.0000 - fn: 161.0000 - precision: 0.9171 - recall: 0.8885 - auc: 0.9971 - prc: 0.9362\n",
      "Epoch 9/50\n",
      "291/291 [==============================] - 0s 2ms/step - loss: 0.0039 - tp: 1330.0000 - fp: 88.0000 - tn: 147299.0000 - fn: 114.0000 - precision: 0.9379 - recall: 0.9211 - auc: 0.9991 - prc: 0.9710\n",
      "Epoch 10/50\n",
      "291/291 [==============================] - 1s 2ms/step - loss: 0.0038 - tp: 1331.0000 - fp: 88.0000 - tn: 147299.0000 - fn: 113.0000 - precision: 0.9380 - recall: 0.9217 - auc: 0.9991 - prc: 0.9738\n",
      "Epoch 11/50\n",
      "291/291 [==============================] - 0s 1ms/step - loss: 0.0039 - tp: 1329.0000 - fp: 103.0000 - tn: 147284.0000 - fn: 115.0000 - precision: 0.9281 - recall: 0.9204 - auc: 0.9994 - prc: 0.9741\n",
      "Epoch 12/50\n",
      "291/291 [==============================] - 0s 1ms/step - loss: 0.0034 - tp: 1336.0000 - fp: 101.0000 - tn: 147286.0000 - fn: 108.0000 - precision: 0.9297 - recall: 0.9252 - auc: 0.9995 - prc: 0.9816\n",
      "Epoch 13/50\n",
      "291/291 [==============================] - 0s 1ms/step - loss: 0.0041 - tp: 1323.0000 - fp: 113.0000 - tn: 147274.0000 - fn: 121.0000 - precision: 0.9213 - recall: 0.9162 - auc: 0.9987 - prc: 0.9677\n",
      "Epoch 14/50\n",
      "291/291 [==============================] - 0s 1ms/step - loss: 0.0044 - tp: 1344.0000 - fp: 123.0000 - tn: 147264.0000 - fn: 100.0000 - precision: 0.9162 - recall: 0.9307 - auc: 0.9956 - prc: 0.9632\n",
      "Epoch 15/50\n",
      "291/291 [==============================] - 0s 1ms/step - loss: 0.0026 - tp: 1378.0000 - fp: 86.0000 - tn: 147301.0000 - fn: 66.0000 - precision: 0.9413 - recall: 0.9543 - auc: 0.9992 - prc: 0.9868\n",
      "Epoch 16/50\n",
      "291/291 [==============================] - 0s 1ms/step - loss: 0.0033 - tp: 1359.0000 - fp: 92.0000 - tn: 147295.0000 - fn: 85.0000 - precision: 0.9366 - recall: 0.9411 - auc: 0.9978 - prc: 0.9793\n",
      "Epoch 17/50\n",
      "291/291 [==============================] - 1s 2ms/step - loss: 0.0040 - tp: 1347.0000 - fp: 98.0000 - tn: 147289.0000 - fn: 97.0000 - precision: 0.9322 - recall: 0.9328 - auc: 0.9974 - prc: 0.9777\n",
      "Epoch 18/50\n",
      "291/291 [==============================] - 1s 2ms/step - loss: 0.0034 - tp: 1358.0000 - fp: 96.0000 - tn: 147291.0000 - fn: 86.0000 - precision: 0.9340 - recall: 0.9404 - auc: 0.9981 - prc: 0.9734\n",
      "Epoch 19/50\n",
      "291/291 [==============================] - 0s 2ms/step - loss: 0.0023 - tp: 1388.0000 - fp: 79.0000 - tn: 147308.0000 - fn: 56.0000 - precision: 0.9461 - recall: 0.9612 - auc: 0.9996 - prc: 0.9894\n",
      "Epoch 20/50\n",
      "291/291 [==============================] - 1s 2ms/step - loss: 0.0023 - tp: 1387.0000 - fp: 64.0000 - tn: 147323.0000 - fn: 57.0000 - precision: 0.9559 - recall: 0.9605 - auc: 0.9982 - prc: 0.9860\n",
      "Epoch 21/50\n",
      "291/291 [==============================] - 0s 2ms/step - loss: 0.0019 - tp: 1385.0000 - fp: 56.0000 - tn: 147331.0000 - fn: 59.0000 - precision: 0.9611 - recall: 0.9591 - auc: 0.9996 - prc: 0.9937\n",
      "Epoch 22/50\n",
      "291/291 [==============================] - 1s 3ms/step - loss: 0.0031 - tp: 1378.0000 - fp: 88.0000 - tn: 147299.0000 - fn: 66.0000 - precision: 0.9400 - recall: 0.9543 - auc: 0.9974 - prc: 0.9795\n",
      "Epoch 23/50\n",
      "291/291 [==============================] - 1s 3ms/step - loss: 0.0025 - tp: 1386.0000 - fp: 81.0000 - tn: 147306.0000 - fn: 58.0000 - precision: 0.9448 - recall: 0.9598 - auc: 0.9989 - prc: 0.9892\n",
      "Epoch 24/50\n",
      "291/291 [==============================] - 1s 2ms/step - loss: 0.0027 - tp: 1401.0000 - fp: 80.0000 - tn: 147307.0000 - fn: 43.0000 - precision: 0.9460 - recall: 0.9702 - auc: 0.9971 - prc: 0.9860\n",
      "Epoch 25/50\n",
      "291/291 [==============================] - 1s 2ms/step - loss: 0.0031 - tp: 1376.0000 - fp: 79.0000 - tn: 147308.0000 - fn: 68.0000 - precision: 0.9457 - recall: 0.9529 - auc: 0.9988 - prc: 0.9792\n",
      "Epoch 26/50\n",
      "291/291 [==============================] - 0s 1ms/step - loss: 0.0018 - tp: 1398.0000 - fp: 60.0000 - tn: 147327.0000 - fn: 46.0000 - precision: 0.9588 - recall: 0.9681 - auc: 0.9992 - prc: 0.9905\n",
      "Epoch 27/50\n",
      "291/291 [==============================] - 0s 1ms/step - loss: 0.0026 - tp: 1390.0000 - fp: 68.0000 - tn: 147319.0000 - fn: 54.0000 - precision: 0.9534 - recall: 0.9626 - auc: 0.9968 - prc: 0.9854\n",
      "Epoch 28/50\n",
      "291/291 [==============================] - 0s 1ms/step - loss: 0.0017 - tp: 1395.0000 - fp: 48.0000 - tn: 147339.0000 - fn: 49.0000 - precision: 0.9667 - recall: 0.9661 - auc: 0.9993 - prc: 0.9936\n",
      "Epoch 29/50\n",
      "291/291 [==============================] - 0s 1ms/step - loss: 0.0012 - tp: 1415.0000 - fp: 37.0000 - tn: 147350.0000 - fn: 29.0000 - precision: 0.9745 - recall: 0.9799 - auc: 1.0000 - prc: 0.9964\n",
      "Epoch 30/50\n",
      "291/291 [==============================] - 0s 1ms/step - loss: 0.0013 - tp: 1410.0000 - fp: 38.0000 - tn: 147349.0000 - fn: 34.0000 - precision: 0.9738 - recall: 0.9765 - auc: 1.0000 - prc: 0.9952\n",
      "Epoch 31/50\n",
      "291/291 [==============================] - 1s 2ms/step - loss: 0.0018 - tp: 1396.0000 - fp: 41.0000 - tn: 147346.0000 - fn: 48.0000 - precision: 0.9715 - recall: 0.9668 - auc: 0.9993 - prc: 0.9923\n",
      "Epoch 32/50\n",
      "291/291 [==============================] - 1s 2ms/step - loss: 0.0011 - tp: 1419.0000 - fp: 27.0000 - tn: 147360.0000 - fn: 25.0000 - precision: 0.9813 - recall: 0.9827 - auc: 0.9993 - prc: 0.9963\n",
      "Epoch 33/50\n",
      "291/291 [==============================] - 1s 2ms/step - loss: 0.0027 - tp: 1392.0000 - fp: 46.0000 - tn: 147341.0000 - fn: 52.0000 - precision: 0.9680 - recall: 0.9640 - auc: 0.9965 - prc: 0.9862\n",
      "Epoch 34/50\n",
      "291/291 [==============================] - 0s 2ms/step - loss: 0.0014 - tp: 1405.0000 - fp: 40.0000 - tn: 147347.0000 - fn: 39.0000 - precision: 0.9723 - recall: 0.9730 - auc: 0.9996 - prc: 0.9964\n",
      "Epoch 35/50\n",
      "291/291 [==============================] - 1s 2ms/step - loss: 0.0012 - tp: 1415.0000 - fp: 30.0000 - tn: 147357.0000 - fn: 29.0000 - precision: 0.9792 - recall: 0.9799 - auc: 0.9996 - prc: 0.9952\n",
      "Epoch 36/50\n",
      "291/291 [==============================] - 1s 2ms/step - loss: 0.0018 - tp: 1399.0000 - fp: 47.0000 - tn: 147340.0000 - fn: 45.0000 - precision: 0.9675 - recall: 0.9688 - auc: 0.9996 - prc: 0.9919\n",
      "Epoch 37/50\n",
      "291/291 [==============================] - 1s 2ms/step - loss: 0.0014 - tp: 1412.0000 - fp: 36.0000 - tn: 147351.0000 - fn: 32.0000 - precision: 0.9751 - recall: 0.9778 - auc: 0.9989 - prc: 0.9951\n",
      "Epoch 38/50\n",
      "291/291 [==============================] - 1s 2ms/step - loss: 0.0011 - tp: 1419.0000 - fp: 29.0000 - tn: 147358.0000 - fn: 25.0000 - precision: 0.9800 - recall: 0.9827 - auc: 0.9993 - prc: 0.9963\n",
      "Epoch 39/50\n",
      "291/291 [==============================] - 1s 2ms/step - loss: 0.0025 - tp: 1381.0000 - fp: 66.0000 - tn: 147321.0000 - fn: 63.0000 - precision: 0.9544 - recall: 0.9564 - auc: 0.9971 - prc: 0.9848\n",
      "Epoch 40/50\n"
     ]
    },
    {
     "name": "stdout",
     "output_type": "stream",
     "text": [
      "291/291 [==============================] - 1s 2ms/step - loss: 0.0020 - tp: 1399.0000 - fp: 50.0000 - tn: 147337.0000 - fn: 45.0000 - precision: 0.9655 - recall: 0.9688 - auc: 0.9996 - prc: 0.9886\n",
      "Epoch 41/50\n",
      "291/291 [==============================] - 0s 2ms/step - loss: 0.0013 - tp: 1419.0000 - fp: 28.0000 - tn: 147359.0000 - fn: 25.0000 - precision: 0.9806 - recall: 0.9827 - auc: 0.9996 - prc: 0.9972\n",
      "Epoch 42/50\n",
      "291/291 [==============================] - 1s 3ms/step - loss: 0.0015 - tp: 1405.0000 - fp: 43.0000 - tn: 147344.0000 - fn: 39.0000 - precision: 0.9703 - recall: 0.9730 - auc: 0.9996 - prc: 0.9941\n",
      "Epoch 43/50\n",
      "291/291 [==============================] - 1s 2ms/step - loss: 0.0011 - tp: 1414.0000 - fp: 34.0000 - tn: 147353.0000 - fn: 30.0000 - precision: 0.9765 - recall: 0.9792 - auc: 1.0000 - prc: 0.9966\n",
      "Epoch 44/50\n",
      "291/291 [==============================] - 1s 2ms/step - loss: 0.0014 - tp: 1411.0000 - fp: 36.0000 - tn: 147351.0000 - fn: 33.0000 - precision: 0.9751 - recall: 0.9771 - auc: 0.9993 - prc: 0.9954\n",
      "Epoch 45/50\n",
      "291/291 [==============================] - 1s 2ms/step - loss: 0.0010 - tp: 1419.0000 - fp: 30.0000 - tn: 147357.0000 - fn: 25.0000 - precision: 0.9793 - recall: 0.9827 - auc: 1.0000 - prc: 0.9970\n",
      "Epoch 46/50\n",
      "291/291 [==============================] - 1s 2ms/step - loss: 0.0012 - tp: 1413.0000 - fp: 30.0000 - tn: 147357.0000 - fn: 31.0000 - precision: 0.9792 - recall: 0.9785 - auc: 0.9993 - prc: 0.9960\n",
      "Epoch 47/50\n",
      "291/291 [==============================] - 1s 2ms/step - loss: 0.0012 - tp: 1411.0000 - fp: 36.0000 - tn: 147351.0000 - fn: 33.0000 - precision: 0.9751 - recall: 0.9771 - auc: 0.9996 - prc: 0.9973\n",
      "Epoch 48/50\n",
      "291/291 [==============================] - 1s 2ms/step - loss: 8.8971e-04 - tp: 1417.0000 - fp: 29.0000 - tn: 147358.0000 - fn: 27.0000 - precision: 0.9799 - recall: 0.9813 - auc: 0.9996 - prc: 0.9982\n",
      "Epoch 49/50\n",
      "291/291 [==============================] - 1s 2ms/step - loss: 0.0014 - tp: 1409.0000 - fp: 44.0000 - tn: 147343.0000 - fn: 35.0000 - precision: 0.9697 - recall: 0.9758 - auc: 0.9996 - prc: 0.9945\n",
      "Epoch 50/50\n",
      "291/291 [==============================] - 1s 2ms/step - loss: 5.7149e-04 - tp: 1426.0000 - fp: 17.0000 - tn: 147370.0000 - fn: 18.0000 - precision: 0.9882 - recall: 0.9875 - auc: 1.0000 - prc: 0.9995\n"
     ]
    }
   ],
   "source": [
    "EPOCHS=50 #200\n",
    "BATCH_SIZE=512# 2048\n",
    "final_history = model.fit(X, y,\n",
    "                          epochs=EPOCHS,\n",
    "                          batch_size=BATCH_SIZE,\n",
    "                          verbose=1,\n",
    "                          shuffle=True) "
   ]
  },
  {
   "cell_type": "code",
   "execution_count": 45,
   "id": "2cf86b58",
   "metadata": {},
   "outputs": [
    {
     "data": {
      "image/png": "[encoded data removed]",
      "text/plain": [
       "<Figure size 640x480 with 1 Axes>"
      ]
     },
     "metadata": {},
     "output_type": "display_data"
    }
   ],
   "source": [
    "# plot training history\n",
    "plt.plot(final_history.history['loss'], label='train')\n",
    "plt.legend()\n",
    "plt.grid()\n",
    "plt.show()"
   ]
  },
  {
   "cell_type": "code",
   "execution_count": 44,
   "id": "1a087e8c",
   "metadata": {
    "scrolled": true
   },
   "outputs": [
    {
     "name": "stderr",
     "output_type": "stream",
     "text": [
      "WARNING:absl:Found untraced functions such as _update_step_xla while saving (showing 1 of 1). These functions will not be directly callable after loading.\n"
     ]
    },
    {
     "name": "stdout",
     "output_type": "stream",
     "text": [
      "INFO:tensorflow:Assets written to: sim_3_full/assets\n"
     ]
    },
    {
     "name": "stderr",
     "output_type": "stream",
     "text": [
      "INFO:tensorflow:Assets written to: sim_3_full/assets\n"
     ]
    }
   ],
   "source": [
    "# model.save('sim_3_full')"
   ]
  },
  {
   "cell_type": "code",
   "execution_count": 88,
   "id": "fbaff835",
   "metadata": {},
   "outputs": [],
   "source": [
    "model = keras.models.load_model('./robot_1_full')\n"
   ]
  },
  {
   "cell_type": "code",
   "execution_count": 89,
   "id": "c46b0469",
   "metadata": {},
   "outputs": [
    {
     "name": "stdout",
     "output_type": "stream",
     "text": [
      "1083/1083 [==============================] - 0s 303us/step\n"
     ]
    }
   ],
   "source": [
    "y_predict = model.predict(X)"
   ]
  },
  {
   "cell_type": "code",
   "execution_count": 90,
   "id": "67876974",
   "metadata": {},
   "outputs": [
    {
     "name": "stdout",
     "output_type": "stream",
     "text": [
      "[[34118     0]\n",
      " [    0   528]]\n"
     ]
    }
   ],
   "source": [
    "print(confusion_matrix(y, y > 0.5))"
   ]
  },
  {
   "cell_type": "code",
   "execution_count": 93,
   "id": "8c5e5168",
   "metadata": {
    "scrolled": true
   },
   "outputs": [
    {
     "name": "stdout",
     "output_type": "stream",
     "text": [
      "[[34102    16]\n",
      " [    8   520]]\n"
     ]
    }
   ],
   "source": [
    "print(confusion_matrix(y, y_predict > 0.5))"
   ]
  },
  {
   "cell_type": "code",
   "execution_count": 94,
   "id": "33e00aeb",
   "metadata": {},
   "outputs": [
    {
     "name": "stdout",
     "output_type": "stream",
     "text": [
      "[[34115     3]\n",
      " [   32   496]]\n"
     ]
    }
   ],
   "source": [
    "print(confusion_matrix(y, y_predict > 0.8))"
   ]
  },
  {
   "cell_type": "code",
   "execution_count": 92,
   "id": "a7d42a30",
   "metadata": {},
   "outputs": [
    {
     "data": {
      "text/plain": [
       "528.0"
      ]
     },
     "execution_count": 92,
     "metadata": {},
     "output_type": "execute_result"
    }
   ],
   "source": [
    "y.sum()"
   ]
  },
  {
   "cell_type": "code",
   "execution_count": null,
   "id": "ef1404f6",
   "metadata": {},
   "outputs": [],
   "source": []
  },
  {
   "cell_type": "code",
   "execution_count": null,
   "id": "2565be30",
   "metadata": {},
   "outputs": [],
   "source": []
  },
  {
   "cell_type": "code",
   "execution_count": null,
   "id": "79b49143",
   "metadata": {},
   "outputs": [],
   "source": []
  }
 ],
 "metadata": {
  "kernelspec": {
   "display_name": "Python 3 (ipykernel)",
   "language": "python",
   "name": "python3"
  },
  "language_info": {
   "codemirror_mode": {
    "name": "ipython",
    "version": 3
   },
   "file_extension": ".py",
   "mimetype": "text/x-python",
   "name": "python",
   "nbconvert_exporter": "python",
   "pygments_lexer": "ipython3",
   "version": "3.10.6"
  }
 },
 "nbformat": 4,
 "nbformat_minor": 5
}
